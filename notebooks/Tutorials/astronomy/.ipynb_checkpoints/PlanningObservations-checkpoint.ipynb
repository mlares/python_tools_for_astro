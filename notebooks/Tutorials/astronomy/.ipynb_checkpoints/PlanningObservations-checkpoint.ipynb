{
 "cells": [
  {
   "cell_type": "markdown",
   "metadata": {},
   "source": [
    "En este notebook:\n",
    "    \n",
    "  - unidades\n",
    "  - coordenadas\n",
    "  - planear una observación"
   ]
  },
  {
   "cell_type": "markdown",
   "metadata": {},
   "source": [
    "# Unidades\n",
    "\n",
    "Las unidades y constantes más usadas en astronomía, junto con varias herramientas para trabajar con las mismas, están disponibles en un paquete llamado **astropy**."
   ]
  },
  {
   "cell_type": "code",
   "execution_count": 1,
   "metadata": {},
   "outputs": [],
   "source": [
    "import numpy as np\n",
    "import matplotlib.pyplot as plt\n",
    "%matplotlib inline  "
   ]
  },
  {
   "cell_type": "code",
   "execution_count": 2,
   "metadata": {},
   "outputs": [],
   "source": [
    "from astropy import units as u\n",
    "from astropy import constants as c"
   ]
  },
  {
   "cell_type": "markdown",
   "metadata": {},
   "source": [
    "- Es importante trabajar con las unidades correctas:"
   ]
  },
  {
   "cell_type": "code",
   "execution_count": 3,
   "metadata": {},
   "outputs": [],
   "source": [
    "R = 8.5 * u.kpc"
   ]
  },
  {
   "cell_type": "markdown",
   "metadata": {},
   "source": [
    "o alternativamente,"
   ]
  },
  {
   "cell_type": "code",
   "execution_count": 4,
   "metadata": {},
   "outputs": [],
   "source": [
    "R = u.Quantity(8.5,unit=u.kpc)"
   ]
  },
  {
   "cell_type": "markdown",
   "metadata": {},
   "source": [
    "- Esta variable contiene tanto el valor como la unidad.   Se pueden recuperar ambos independientemente."
   ]
  },
  {
   "cell_type": "code",
   "execution_count": 5,
   "metadata": {},
   "outputs": [
    {
     "data": {
      "text/latex": [
       "$8.5 \\; \\mathrm{kpc}$"
      ],
      "text/plain": [
       "<Quantity 8.5 kpc>"
      ]
     },
     "execution_count": 5,
     "metadata": {},
     "output_type": "execute_result"
    }
   ],
   "source": [
    "R"
   ]
  },
  {
   "cell_type": "code",
   "execution_count": 6,
   "metadata": {},
   "outputs": [
    {
     "data": {
      "text/plain": [
       "8.5"
      ]
     },
     "execution_count": 6,
     "metadata": {},
     "output_type": "execute_result"
    }
   ],
   "source": [
    "R.value"
   ]
  },
  {
   "cell_type": "code",
   "execution_count": 7,
   "metadata": {},
   "outputs": [
    {
     "data": {
      "text/latex": [
       "$\\mathrm{kpc}$"
      ],
      "text/plain": [
       "Unit(\"kpc\")"
      ]
     },
     "execution_count": 7,
     "metadata": {},
     "output_type": "execute_result"
    }
   ],
   "source": [
    "R.unit"
   ]
  },
  {
   "cell_type": "markdown",
   "metadata": {},
   "source": [
    "- Al usar las unidades, podemos trabajar de manera consistente:"
   ]
  },
  {
   "cell_type": "code",
   "execution_count": 8,
   "metadata": {},
   "outputs": [
    {
     "data": {
      "text/plain": [
       "True"
      ]
     },
     "execution_count": 8,
     "metadata": {},
     "output_type": "execute_result"
    }
   ],
   "source": [
    "R1 = 8.5 * u.kpc\n",
    "R2 = 8500 * u.pc\n",
    "R1==R2"
   ]
  },
  {
   "cell_type": "markdown",
   "metadata": {},
   "source": [
    "- Podemos convertir entre unidades, con la función 'to'."
   ]
  },
  {
   "cell_type": "code",
   "execution_count": 9,
   "metadata": {},
   "outputs": [
    {
     "name": "stdout",
     "output_type": "stream",
     "text": [
      "1753250853.086583 AU\n",
      "2.622825944247113e+17 km\n",
      "0.0085 Mpc\n"
     ]
    }
   ],
   "source": [
    "print(R.to(u.AU))\n",
    "print(R.to(u.km))\n",
    "print(R.to(u.Mpc))"
   ]
  },
  {
   "cell_type": "markdown",
   "metadata": {},
   "source": [
    "- Podemos acceder a constantes físicas y construir unidades derivadas:"
   ]
  },
  {
   "cell_type": "code",
   "execution_count": 10,
   "metadata": {},
   "outputs": [
    {
     "name": "stdout",
     "output_type": "stream",
     "text": [
      "  Name   = Gravitational constant\n",
      "  Value  = 6.67408e-11\n",
      "  Uncertainty  = 3.1e-15\n",
      "  Unit  = m3 / (kg s2)\n",
      "  Reference = CODATA 2014\n"
     ]
    },
    {
     "data": {
      "text/latex": [
       "$220 \\; \\mathrm{\\frac{km}{s}}$"
      ],
      "text/plain": [
       "<Quantity 220. km / s>"
      ]
     },
     "execution_count": 10,
     "metadata": {},
     "output_type": "execute_result"
    }
   ],
   "source": [
    "print(c.G)\n",
    "v = 220 * u.km / u.s\n",
    "v"
   ]
  },
  {
   "cell_type": "code",
   "execution_count": 14,
   "metadata": {},
   "outputs": [
    {
     "data": {
      "text/latex": [
       "$1.6143021 \\times 10^{8} \\; \\mathrm{M_{\\odot}}$"
      ],
      "text/plain": [
       "<Quantity 1.61430208e+08 solMass>"
      ]
     },
     "execution_count": 14,
     "metadata": {},
     "output_type": "execute_result"
    }
   ],
   "source": [
    "masa = 321.e36 * u.kg\n",
    "masa.to(u.Msun)"
   ]
  },
  {
   "cell_type": "markdown",
   "metadata": {},
   "source": [
    "### tiempo\n",
    "\n",
    "- Para trabajar con tiempo hay varias herramientas, tales como *astropy*, *pytz* y *astroplan*."
   ]
  },
  {
   "cell_type": "code",
   "execution_count": 15,
   "metadata": {},
   "outputs": [
    {
     "name": "stdout",
     "output_type": "stream",
     "text": [
      "Africa/Abidjan\n",
      "Africa/Accra\n",
      "Africa/Addis_Ababa\n",
      "Africa/Algiers\n",
      "Africa/Asmara\n",
      "Africa/Asmera\n",
      "Africa/Bamako\n",
      "Africa/Bangui\n",
      "Africa/Banjul\n",
      "Africa/Bissau\n",
      "Africa/Blantyre\n",
      "Africa/Brazzaville\n",
      "Africa/Bujumbura\n",
      "Africa/Cairo\n",
      "Africa/Casablanca\n",
      "Africa/Ceuta\n",
      "Africa/Conakry\n",
      "Africa/Dakar\n",
      "Africa/Dar_es_Salaam\n",
      "Africa/Djibouti\n",
      "Africa/Douala\n",
      "Africa/El_Aaiun\n",
      "Africa/Freetown\n",
      "Africa/Gaborone\n",
      "Africa/Harare\n",
      "Africa/Johannesburg\n",
      "Africa/Juba\n",
      "Africa/Kampala\n",
      "Africa/Khartoum\n",
      "Africa/Kigali\n",
      "Africa/Kinshasa\n",
      "Africa/Lagos\n",
      "Africa/Libreville\n",
      "Africa/Lome\n",
      "Africa/Luanda\n",
      "Africa/Lubumbashi\n",
      "Africa/Lusaka\n",
      "Africa/Malabo\n",
      "Africa/Maputo\n",
      "Africa/Maseru\n",
      "Africa/Mbabane\n",
      "Africa/Mogadishu\n",
      "Africa/Monrovia\n",
      "Africa/Nairobi\n",
      "Africa/Ndjamena\n",
      "Africa/Niamey\n",
      "Africa/Nouakchott\n",
      "Africa/Ouagadougou\n",
      "Africa/Porto-Novo\n",
      "Africa/Sao_Tome\n",
      "Africa/Timbuktu\n",
      "Africa/Tripoli\n",
      "Africa/Tunis\n",
      "Africa/Windhoek\n",
      "America/Adak\n",
      "America/Anchorage\n",
      "America/Anguilla\n",
      "America/Antigua\n",
      "America/Araguaina\n",
      "America/Argentina/Buenos_Aires\n",
      "America/Argentina/Catamarca\n",
      "America/Argentina/ComodRivadavia\n",
      "America/Argentina/Cordoba\n",
      "America/Argentina/Jujuy\n",
      "America/Argentina/La_Rioja\n",
      "America/Argentina/Mendoza\n",
      "America/Argentina/Rio_Gallegos\n",
      "America/Argentina/Salta\n",
      "America/Argentina/San_Juan\n",
      "America/Argentina/San_Luis\n",
      "America/Argentina/Tucuman\n",
      "America/Argentina/Ushuaia\n",
      "America/Aruba\n",
      "America/Asuncion\n",
      "America/Atikokan\n",
      "America/Atka\n",
      "America/Bahia\n",
      "America/Bahia_Banderas\n",
      "America/Barbados\n",
      "America/Belem\n",
      "America/Belize\n",
      "America/Blanc-Sablon\n",
      "America/Boa_Vista\n",
      "America/Bogota\n",
      "America/Boise\n",
      "America/Buenos_Aires\n",
      "America/Cambridge_Bay\n",
      "America/Campo_Grande\n",
      "America/Cancun\n",
      "America/Caracas\n",
      "America/Catamarca\n",
      "America/Cayenne\n",
      "America/Cayman\n",
      "America/Chicago\n",
      "America/Chihuahua\n",
      "America/Coral_Harbour\n",
      "America/Cordoba\n",
      "America/Costa_Rica\n",
      "America/Creston\n",
      "America/Cuiaba\n",
      "America/Curacao\n",
      "America/Danmarkshavn\n",
      "America/Dawson\n",
      "America/Dawson_Creek\n",
      "America/Denver\n",
      "America/Detroit\n",
      "America/Dominica\n",
      "America/Edmonton\n",
      "America/Eirunepe\n",
      "America/El_Salvador\n",
      "America/Ensenada\n",
      "America/Fort_Nelson\n",
      "America/Fort_Wayne\n",
      "America/Fortaleza\n",
      "America/Glace_Bay\n",
      "America/Godthab\n",
      "America/Goose_Bay\n",
      "America/Grand_Turk\n",
      "America/Grenada\n",
      "America/Guadeloupe\n",
      "America/Guatemala\n",
      "America/Guayaquil\n",
      "America/Guyana\n",
      "America/Halifax\n",
      "America/Havana\n",
      "America/Hermosillo\n",
      "America/Indiana/Indianapolis\n",
      "America/Indiana/Knox\n",
      "America/Indiana/Marengo\n",
      "America/Indiana/Petersburg\n",
      "America/Indiana/Tell_City\n",
      "America/Indiana/Vevay\n",
      "America/Indiana/Vincennes\n",
      "America/Indiana/Winamac\n",
      "America/Indianapolis\n",
      "America/Inuvik\n",
      "America/Iqaluit\n",
      "America/Jamaica\n",
      "America/Jujuy\n",
      "America/Juneau\n",
      "America/Kentucky/Louisville\n",
      "America/Kentucky/Monticello\n",
      "America/Knox_IN\n",
      "America/Kralendijk\n",
      "America/La_Paz\n",
      "America/Lima\n",
      "America/Los_Angeles\n",
      "America/Louisville\n",
      "America/Lower_Princes\n",
      "America/Maceio\n",
      "America/Managua\n",
      "America/Manaus\n",
      "America/Marigot\n",
      "America/Martinique\n",
      "America/Matamoros\n",
      "America/Mazatlan\n",
      "America/Mendoza\n",
      "America/Menominee\n",
      "America/Merida\n",
      "America/Metlakatla\n",
      "America/Mexico_City\n",
      "America/Miquelon\n",
      "America/Moncton\n",
      "America/Monterrey\n",
      "America/Montevideo\n",
      "America/Montreal\n",
      "America/Montserrat\n",
      "America/Nassau\n",
      "America/New_York\n",
      "America/Nipigon\n",
      "America/Nome\n",
      "America/Noronha\n",
      "America/North_Dakota/Beulah\n",
      "America/North_Dakota/Center\n",
      "America/North_Dakota/New_Salem\n",
      "America/Ojinaga\n",
      "America/Panama\n",
      "America/Pangnirtung\n",
      "America/Paramaribo\n",
      "America/Phoenix\n",
      "America/Port-au-Prince\n",
      "America/Port_of_Spain\n",
      "America/Porto_Acre\n",
      "America/Porto_Velho\n",
      "America/Puerto_Rico\n",
      "America/Punta_Arenas\n",
      "America/Rainy_River\n",
      "America/Rankin_Inlet\n",
      "America/Recife\n",
      "America/Regina\n",
      "America/Resolute\n",
      "America/Rio_Branco\n",
      "America/Rosario\n",
      "America/Santa_Isabel\n",
      "America/Santarem\n",
      "America/Santiago\n",
      "America/Santo_Domingo\n",
      "America/Sao_Paulo\n",
      "America/Scoresbysund\n",
      "America/Shiprock\n",
      "America/Sitka\n",
      "America/St_Barthelemy\n",
      "America/St_Johns\n",
      "America/St_Kitts\n",
      "America/St_Lucia\n",
      "America/St_Thomas\n",
      "America/St_Vincent\n",
      "America/Swift_Current\n",
      "America/Tegucigalpa\n",
      "America/Thule\n",
      "America/Thunder_Bay\n",
      "America/Tijuana\n",
      "America/Toronto\n",
      "America/Tortola\n",
      "America/Vancouver\n",
      "America/Virgin\n",
      "America/Whitehorse\n",
      "America/Winnipeg\n",
      "America/Yakutat\n",
      "America/Yellowknife\n",
      "Antarctica/Casey\n",
      "Antarctica/Davis\n",
      "Antarctica/DumontDUrville\n",
      "Antarctica/Macquarie\n",
      "Antarctica/Mawson\n",
      "Antarctica/McMurdo\n",
      "Antarctica/Palmer\n",
      "Antarctica/Rothera\n",
      "Antarctica/South_Pole\n",
      "Antarctica/Syowa\n",
      "Antarctica/Troll\n",
      "Antarctica/Vostok\n",
      "Arctic/Longyearbyen\n",
      "Asia/Aden\n",
      "Asia/Almaty\n",
      "Asia/Amman\n",
      "Asia/Anadyr\n",
      "Asia/Aqtau\n",
      "Asia/Aqtobe\n",
      "Asia/Ashgabat\n",
      "Asia/Ashkhabad\n",
      "Asia/Atyrau\n",
      "Asia/Baghdad\n",
      "Asia/Bahrain\n",
      "Asia/Baku\n",
      "Asia/Bangkok\n",
      "Asia/Barnaul\n",
      "Asia/Beirut\n",
      "Asia/Bishkek\n",
      "Asia/Brunei\n",
      "Asia/Calcutta\n",
      "Asia/Chita\n",
      "Asia/Choibalsan\n",
      "Asia/Chongqing\n",
      "Asia/Chungking\n",
      "Asia/Colombo\n",
      "Asia/Dacca\n",
      "Asia/Damascus\n",
      "Asia/Dhaka\n",
      "Asia/Dili\n",
      "Asia/Dubai\n",
      "Asia/Dushanbe\n",
      "Asia/Famagusta\n",
      "Asia/Gaza\n",
      "Asia/Harbin\n",
      "Asia/Hebron\n",
      "Asia/Ho_Chi_Minh\n",
      "Asia/Hong_Kong\n",
      "Asia/Hovd\n",
      "Asia/Irkutsk\n",
      "Asia/Istanbul\n",
      "Asia/Jakarta\n",
      "Asia/Jayapura\n",
      "Asia/Jerusalem\n",
      "Asia/Kabul\n",
      "Asia/Kamchatka\n",
      "Asia/Karachi\n",
      "Asia/Kashgar\n",
      "Asia/Kathmandu\n",
      "Asia/Katmandu\n",
      "Asia/Khandyga\n",
      "Asia/Kolkata\n",
      "Asia/Krasnoyarsk\n",
      "Asia/Kuala_Lumpur\n",
      "Asia/Kuching\n",
      "Asia/Kuwait\n",
      "Asia/Macao\n",
      "Asia/Macau\n",
      "Asia/Magadan\n",
      "Asia/Makassar\n",
      "Asia/Manila\n",
      "Asia/Muscat\n",
      "Asia/Nicosia\n",
      "Asia/Novokuznetsk\n",
      "Asia/Novosibirsk\n",
      "Asia/Omsk\n",
      "Asia/Oral\n",
      "Asia/Phnom_Penh\n",
      "Asia/Pontianak\n",
      "Asia/Pyongyang\n",
      "Asia/Qatar\n",
      "Asia/Qostanay\n",
      "Asia/Qyzylorda\n",
      "Asia/Rangoon\n",
      "Asia/Riyadh\n",
      "Asia/Saigon\n",
      "Asia/Sakhalin\n",
      "Asia/Samarkand\n",
      "Asia/Seoul\n",
      "Asia/Shanghai\n",
      "Asia/Singapore\n",
      "Asia/Srednekolymsk\n",
      "Asia/Taipei\n",
      "Asia/Tashkent\n",
      "Asia/Tbilisi\n",
      "Asia/Tehran\n",
      "Asia/Tel_Aviv\n",
      "Asia/Thimbu\n",
      "Asia/Thimphu\n",
      "Asia/Tokyo\n",
      "Asia/Tomsk\n",
      "Asia/Ujung_Pandang\n",
      "Asia/Ulaanbaatar\n",
      "Asia/Ulan_Bator\n",
      "Asia/Urumqi\n",
      "Asia/Ust-Nera\n",
      "Asia/Vientiane\n",
      "Asia/Vladivostok\n",
      "Asia/Yakutsk\n",
      "Asia/Yangon\n",
      "Asia/Yekaterinburg\n",
      "Asia/Yerevan\n",
      "Atlantic/Azores\n",
      "Atlantic/Bermuda\n",
      "Atlantic/Canary\n",
      "Atlantic/Cape_Verde\n",
      "Atlantic/Faeroe\n",
      "Atlantic/Faroe\n",
      "Atlantic/Jan_Mayen\n",
      "Atlantic/Madeira\n",
      "Atlantic/Reykjavik\n",
      "Atlantic/South_Georgia\n",
      "Atlantic/St_Helena\n",
      "Atlantic/Stanley\n",
      "Australia/ACT\n",
      "Australia/Adelaide\n",
      "Australia/Brisbane\n",
      "Australia/Broken_Hill\n",
      "Australia/Canberra\n",
      "Australia/Currie\n",
      "Australia/Darwin\n",
      "Australia/Eucla\n",
      "Australia/Hobart\n",
      "Australia/LHI\n",
      "Australia/Lindeman\n",
      "Australia/Lord_Howe\n",
      "Australia/Melbourne\n",
      "Australia/NSW\n",
      "Australia/North\n",
      "Australia/Perth\n",
      "Australia/Queensland\n",
      "Australia/South\n",
      "Australia/Sydney\n",
      "Australia/Tasmania\n",
      "Australia/Victoria\n",
      "Australia/West\n",
      "Australia/Yancowinna\n",
      "Brazil/Acre\n",
      "Brazil/DeNoronha\n",
      "Brazil/East\n",
      "Brazil/West\n",
      "CET\n",
      "CST6CDT\n",
      "Canada/Atlantic\n",
      "Canada/Central\n",
      "Canada/Eastern\n",
      "Canada/Mountain\n",
      "Canada/Newfoundland\n",
      "Canada/Pacific\n",
      "Canada/Saskatchewan\n",
      "Canada/Yukon\n",
      "Chile/Continental\n",
      "Chile/EasterIsland\n",
      "Cuba\n",
      "EET\n",
      "EST\n",
      "EST5EDT\n",
      "Egypt\n",
      "Eire\n",
      "Etc/GMT\n",
      "Etc/GMT+0\n",
      "Etc/GMT+1\n",
      "Etc/GMT+10\n",
      "Etc/GMT+11\n",
      "Etc/GMT+12\n",
      "Etc/GMT+2\n",
      "Etc/GMT+3\n",
      "Etc/GMT+4\n",
      "Etc/GMT+5\n",
      "Etc/GMT+6\n",
      "Etc/GMT+7\n",
      "Etc/GMT+8\n",
      "Etc/GMT+9\n",
      "Etc/GMT-0\n",
      "Etc/GMT-1\n",
      "Etc/GMT-10\n",
      "Etc/GMT-11\n",
      "Etc/GMT-12\n",
      "Etc/GMT-13\n",
      "Etc/GMT-14\n",
      "Etc/GMT-2\n",
      "Etc/GMT-3\n",
      "Etc/GMT-4\n",
      "Etc/GMT-5\n",
      "Etc/GMT-6\n",
      "Etc/GMT-7\n",
      "Etc/GMT-8\n",
      "Etc/GMT-9\n",
      "Etc/GMT0\n",
      "Etc/Greenwich\n",
      "Etc/UCT\n",
      "Etc/UTC\n",
      "Etc/Universal\n",
      "Etc/Zulu\n",
      "Europe/Amsterdam\n",
      "Europe/Andorra\n",
      "Europe/Astrakhan\n",
      "Europe/Athens\n",
      "Europe/Belfast\n",
      "Europe/Belgrade\n",
      "Europe/Berlin\n",
      "Europe/Bratislava\n",
      "Europe/Brussels\n",
      "Europe/Bucharest\n",
      "Europe/Budapest\n",
      "Europe/Busingen\n",
      "Europe/Chisinau\n",
      "Europe/Copenhagen\n",
      "Europe/Dublin\n",
      "Europe/Gibraltar\n",
      "Europe/Guernsey\n",
      "Europe/Helsinki\n",
      "Europe/Isle_of_Man\n",
      "Europe/Istanbul\n",
      "Europe/Jersey\n",
      "Europe/Kaliningrad\n",
      "Europe/Kiev\n",
      "Europe/Kirov\n",
      "Europe/Lisbon\n",
      "Europe/Ljubljana\n",
      "Europe/London\n",
      "Europe/Luxembourg\n",
      "Europe/Madrid\n",
      "Europe/Malta\n",
      "Europe/Mariehamn\n",
      "Europe/Minsk\n",
      "Europe/Monaco\n",
      "Europe/Moscow\n",
      "Europe/Nicosia\n",
      "Europe/Oslo\n",
      "Europe/Paris\n",
      "Europe/Podgorica\n",
      "Europe/Prague\n",
      "Europe/Riga\n",
      "Europe/Rome\n",
      "Europe/Samara\n",
      "Europe/San_Marino\n",
      "Europe/Sarajevo\n",
      "Europe/Saratov\n",
      "Europe/Simferopol\n",
      "Europe/Skopje\n",
      "Europe/Sofia\n",
      "Europe/Stockholm\n",
      "Europe/Tallinn\n",
      "Europe/Tirane\n",
      "Europe/Tiraspol\n",
      "Europe/Ulyanovsk\n",
      "Europe/Uzhgorod\n",
      "Europe/Vaduz\n",
      "Europe/Vatican\n",
      "Europe/Vienna\n",
      "Europe/Vilnius\n",
      "Europe/Volgograd\n",
      "Europe/Warsaw\n",
      "Europe/Zagreb\n",
      "Europe/Zaporozhye\n",
      "Europe/Zurich\n",
      "GB\n",
      "GB-Eire\n",
      "GMT\n",
      "GMT+0\n",
      "GMT-0\n",
      "GMT0\n",
      "Greenwich\n",
      "HST\n",
      "Hongkong\n",
      "Iceland\n",
      "Indian/Antananarivo\n",
      "Indian/Chagos\n",
      "Indian/Christmas\n",
      "Indian/Cocos\n",
      "Indian/Comoro\n",
      "Indian/Kerguelen\n",
      "Indian/Mahe\n",
      "Indian/Maldives\n",
      "Indian/Mauritius\n",
      "Indian/Mayotte\n",
      "Indian/Reunion\n",
      "Iran\n",
      "Israel\n",
      "Jamaica\n",
      "Japan\n",
      "Kwajalein\n",
      "Libya\n",
      "MET\n",
      "MST\n",
      "MST7MDT\n",
      "Mexico/BajaNorte\n",
      "Mexico/BajaSur\n",
      "Mexico/General\n",
      "NZ\n",
      "NZ-CHAT\n",
      "Navajo\n",
      "PRC\n",
      "PST8PDT\n",
      "Pacific/Apia\n",
      "Pacific/Auckland\n",
      "Pacific/Bougainville\n",
      "Pacific/Chatham\n",
      "Pacific/Chuuk\n",
      "Pacific/Easter\n",
      "Pacific/Efate\n",
      "Pacific/Enderbury\n",
      "Pacific/Fakaofo\n",
      "Pacific/Fiji\n",
      "Pacific/Funafuti\n",
      "Pacific/Galapagos\n",
      "Pacific/Gambier\n",
      "Pacific/Guadalcanal\n",
      "Pacific/Guam\n",
      "Pacific/Honolulu\n",
      "Pacific/Johnston\n",
      "Pacific/Kiritimati\n",
      "Pacific/Kosrae\n",
      "Pacific/Kwajalein\n",
      "Pacific/Majuro\n",
      "Pacific/Marquesas\n",
      "Pacific/Midway\n",
      "Pacific/Nauru\n",
      "Pacific/Niue\n",
      "Pacific/Norfolk\n",
      "Pacific/Noumea\n",
      "Pacific/Pago_Pago\n",
      "Pacific/Palau\n",
      "Pacific/Pitcairn\n",
      "Pacific/Pohnpei\n",
      "Pacific/Ponape\n",
      "Pacific/Port_Moresby\n",
      "Pacific/Rarotonga\n",
      "Pacific/Saipan\n",
      "Pacific/Samoa\n",
      "Pacific/Tahiti\n",
      "Pacific/Tarawa\n",
      "Pacific/Tongatapu\n",
      "Pacific/Truk\n",
      "Pacific/Wake\n",
      "Pacific/Wallis\n",
      "Pacific/Yap\n",
      "Poland\n",
      "Portugal\n",
      "ROC\n",
      "ROK\n",
      "Singapore\n",
      "Turkey\n",
      "UCT\n",
      "US/Alaska\n",
      "US/Aleutian\n",
      "US/Arizona\n",
      "US/Central\n",
      "US/East-Indiana\n",
      "US/Eastern\n",
      "US/Hawaii\n",
      "US/Indiana-Starke\n",
      "US/Michigan\n",
      "US/Mountain\n",
      "US/Pacific\n",
      "US/Samoa\n",
      "UTC\n",
      "Universal\n",
      "W-SU\n",
      "WET\n",
      "Zulu\n"
     ]
    }
   ],
   "source": [
    "import pytz\n",
    "\n",
    "for tz in pytz.all_timezones:\n",
    "    print(tz)"
   ]
  },
  {
   "cell_type": "code",
   "execution_count": 16,
   "metadata": {},
   "outputs": [],
   "source": [
    "import datetime\n",
    "\n",
    "# definimos el huso horario del lugar de observacion\n",
    "local = pytz.timezone (\"America/Argentina/Salta\")\n",
    "\n",
    "# cuando?\n",
    "t = datetime.datetime.strptime (\"2019-10-04 18:00:00\", \"%Y-%m-%d %H:%M:%S\")\n",
    "\n",
    "local_dt = local.localize(t, is_dst=None)\n",
    "\n",
    "# calcular el tiempo universal coordinado\n",
    "utc = local_dt.astimezone(pytz.utc)"
   ]
  },
  {
   "cell_type": "code",
   "execution_count": 17,
   "metadata": {},
   "outputs": [
    {
     "data": {
      "text/plain": [
       "datetime.datetime(2019, 10, 4, 21, 0, tzinfo=<UTC>)"
      ]
     },
     "execution_count": 17,
     "metadata": {},
     "output_type": "execute_result"
    }
   ],
   "source": [
    "utc"
   ]
  },
  {
   "cell_type": "code",
   "execution_count": null,
   "metadata": {},
   "outputs": [],
   "source": [
    "utc?"
   ]
  },
  {
   "cell_type": "code",
   "execution_count": null,
   "metadata": {},
   "outputs": [],
   "source": []
  },
  {
   "cell_type": "markdown",
   "metadata": {},
   "source": [
    "# Coordenadas celestes\n",
    "\n",
    "El pasaje de coordenadas celestes es un procedimiento bastante complicado.  Mediante astropy este proceso se puede llevar a cabo de manera simple."
   ]
  },
  {
   "cell_type": "code",
   "execution_count": 18,
   "metadata": {},
   "outputs": [],
   "source": [
    "from astropy import units as u\n",
    "from astropy.coordinates import SkyCoord"
   ]
  },
  {
   "cell_type": "markdown",
   "metadata": {},
   "source": [
    "- Hay muchas formas de definir coordenadas celestes, por ejemplo:"
   ]
  },
  {
   "cell_type": "code",
   "execution_count": 19,
   "metadata": {},
   "outputs": [
    {
     "data": {
      "text/plain": [
       "<SkyCoord (ICRS): (ra, dec) in deg\n",
       "    (10.625, 41.2)>"
      ]
     },
     "execution_count": 19,
     "metadata": {},
     "output_type": "execute_result"
    }
   ],
   "source": [
    "c = SkyCoord(ra=10.625*u.degree, dec=41.2*u.degree)\n",
    "c = SkyCoord(10.625, 41.2, unit='deg')\n",
    "c = SkyCoord('00h42m30s', '+41d12m00s')\n",
    "c = SkyCoord('00h42.5m', '+41d12m')\n",
    "c = SkyCoord('00 42 30 +41 12 00', unit=(u.hourangle, u.deg))\n",
    "c = SkyCoord('00:42.5 +41:12', unit=(u.hourangle, u.deg))\n",
    "c"
   ]
  },
  {
   "cell_type": "markdown",
   "metadata": {},
   "source": [
    "- Al trabajar con objetos de tipo coordenada, se dispone de varios métodos:"
   ]
  },
  {
   "cell_type": "code",
   "execution_count": 20,
   "metadata": {},
   "outputs": [
    {
     "name": "stdout",
     "output_type": "stream",
     "text": [
      "10d37m30s\n",
      "0.7083333333333335\n",
      "10.625\n",
      "0.18544123302439752\n"
     ]
    }
   ],
   "source": [
    "print(c.ra)\n",
    "print(c.ra.hour)\n",
    "print(c.ra.deg)\n",
    "print(c.ra.radian)"
   ]
  },
  {
   "cell_type": "markdown",
   "metadata": {},
   "source": [
    "- también podemos cambiar el sistema de referencia y corregir las coordenadas por precesión"
   ]
  },
  {
   "cell_type": "code",
   "execution_count": 21,
   "metadata": {},
   "outputs": [
    {
     "data": {
      "text/plain": [
       "<SkyCoord (Galactic): (l, b) in deg\n",
       "    (121.12334339, -21.6403587)>"
      ]
     },
     "execution_count": 21,
     "metadata": {},
     "output_type": "execute_result"
    }
   ],
   "source": [
    "c.galactic  "
   ]
  },
  {
   "cell_type": "code",
   "execution_count": 22,
   "metadata": {},
   "outputs": [
    {
     "data": {
      "text/plain": [
       "<SkyCoord (FK5: equinox=J2000.000): (ra, dec) in deg\n",
       "    (10.62501153, 41.20000147)>"
      ]
     },
     "execution_count": 22,
     "metadata": {},
     "output_type": "execute_result"
    }
   ],
   "source": [
    "from astropy.coordinates import FK5\n",
    "c.transform_to(FK5(equinox='J2000'))"
   ]
  },
  {
   "cell_type": "markdown",
   "metadata": {},
   "source": [
    "Como parte de las funcionalidades disponibles, se puede pedir la posición de un objeto por su nombre.  Para ello usa una base de datos denominada sesame (http://cds.u-strasbg.fr/cgi-bin/Sesame)."
   ]
  },
  {
   "cell_type": "code",
   "execution_count": 24,
   "metadata": {},
   "outputs": [
    {
     "data": {
      "text/plain": [
       "<SkyCoord (ICRS): (ra, dec) in deg\n",
       "    (10.68470833, 41.26875)>"
      ]
     },
     "execution_count": 24,
     "metadata": {},
     "output_type": "execute_result"
    }
   ],
   "source": [
    "from astropy.coordinates import get_icrs_coordinates\n",
    "\n",
    "cm42 = get_icrs_coordinates('m31')\n",
    "cm42"
   ]
  },
  {
   "cell_type": "code",
   "execution_count": 26,
   "metadata": {},
   "outputs": [
    {
     "name": "stdout",
     "output_type": "stream",
     "text": [
      "La ascensión recta es 13.424338 horas\n",
      "La declinación es -43.019113 grados\n"
     ]
    }
   ],
   "source": [
    "pos = get_icrs_coordinates('ngc5128')\n",
    "print(\"La ascensión recta es %f horas\" % pos.ra.hour)\n",
    "print(\"La declinación es %f grados\" % pos.dec.deg)"
   ]
  },
  {
   "cell_type": "markdown",
   "metadata": {},
   "source": [
    "Para saber si se puede observar un objeto, es necesario tener mucho cuidado con la posición de los objetos en función del tiempo.  Por ejemplo, es fundamental saber dónde está el Sol..."
   ]
  },
  {
   "cell_type": "code",
   "execution_count": 27,
   "metadata": {},
   "outputs": [
    {
     "data": {
      "text/plain": [
       "<SkyCoord (GCRS: obstime=1999-01-01T00:00:00.123, obsgeoloc=(0., 0., 0.) m, obsgeovel=(0., 0., 0.) m / s): (ra, dec, distance) in (deg, deg, AU)\n",
       "    (281.01149439, -23.05349434, 0.98330215)>"
      ]
     },
     "execution_count": 27,
     "metadata": {},
     "output_type": "execute_result"
    }
   ],
   "source": [
    "from astropy.coordinates import get_sun\n",
    "from astropy.time import Time\n",
    "\n",
    "tiempo = Time('1999-01-01T00:00:00.123456789')\n",
    "get_sun(tiempo)"
   ]
  },
  {
   "cell_type": "markdown",
   "metadata": {},
   "source": [
    "# Preparando una observación\n",
    "\n",
    "- Investiguemos un área del cielo alrededor del grupo compacto de Hickson.\n",
    "- Los nombres de los objetos se pueden buscar en http://cdsweb.u-strasbg.fr/cgi-bin/Sesame\n",
    "- Basado en https://github.com/astropy/astropy-tutorials\n",
    "- Vamos a ver cómo obtener información de un objeto y cómo preparar la observación"
   ]
  },
  {
   "cell_type": "markdown",
   "metadata": {},
   "source": [
    "## 1. Obtención de datos de un objeto"
   ]
  },
  {
   "cell_type": "code",
   "execution_count": 28,
   "metadata": {},
   "outputs": [],
   "source": [
    "# Python standard-library\n",
    "from urllib.parse import urlencode\n",
    "from urllib.request import urlretrieve\n",
    "\n",
    "# Third-party dependencies\n",
    "from astropy import units as u\n",
    "from astropy.coordinates import SkyCoord\n",
    "from IPython.display import Image"
   ]
  },
  {
   "cell_type": "code",
   "execution_count": 29,
   "metadata": {},
   "outputs": [],
   "source": [
    "hcg7_center = SkyCoord.from_name('HCG 7')"
   ]
  },
  {
   "cell_type": "code",
   "execution_count": 30,
   "metadata": {},
   "outputs": [
    {
     "data": {
      "text/plain": [
       "astropy.coordinates.sky_coordinate.SkyCoord"
      ]
     },
     "execution_count": 30,
     "metadata": {},
     "output_type": "execute_result"
    }
   ],
   "source": [
    "type(hcg7_center)"
   ]
  },
  {
   "cell_type": "markdown",
   "metadata": {},
   "source": [
    "Al ser un objeto de tipo SkyCoord, tenemos acceso a varios \"metodos\""
   ]
  },
  {
   "cell_type": "code",
   "execution_count": 31,
   "metadata": {},
   "outputs": [
    {
     "data": {
      "text/plain": [
       "['T',\n",
       " '__abstractmethods__',\n",
       " '__bool__',\n",
       " '__class__',\n",
       " '__delattr__',\n",
       " '__dict__',\n",
       " '__dir__',\n",
       " '__doc__',\n",
       " '__eq__',\n",
       " '__format__',\n",
       " '__ge__',\n",
       " '__getattr__',\n",
       " '__getattribute__',\n",
       " '__getitem__',\n",
       " '__gt__',\n",
       " '__hash__',\n",
       " '__init__',\n",
       " '__init_subclass__',\n",
       " '__iter__',\n",
       " '__le__',\n",
       " '__len__',\n",
       " '__lt__',\n",
       " '__module__',\n",
       " '__ne__',\n",
       " '__new__',\n",
       " '__reduce__',\n",
       " '__reduce_ex__',\n",
       " '__repr__',\n",
       " '__setattr__',\n",
       " '__sizeof__',\n",
       " '__str__',\n",
       " '__subclasshook__',\n",
       " '__weakref__',\n",
       " '_abc_impl',\n",
       " '_apply',\n",
       " '_extra_frameattr_names',\n",
       " '_sky_coord_frame',\n",
       " 'altaz',\n",
       " 'apply_space_motion',\n",
       " 'barycentricmeanecliptic',\n",
       " 'barycentrictrueecliptic',\n",
       " 'cache',\n",
       " 'cartesian',\n",
       " 'cirs',\n",
       " 'contained_by',\n",
       " 'copy',\n",
       " 'custombarycentricecliptic',\n",
       " 'data',\n",
       " 'dec',\n",
       " 'default_differential',\n",
       " 'default_representation',\n",
       " 'diagonal',\n",
       " 'differential_type',\n",
       " 'directional_offset_by',\n",
       " 'distance',\n",
       " 'equinox',\n",
       " 'fk4',\n",
       " 'fk4noeterms',\n",
       " 'fk5',\n",
       " 'flatten',\n",
       " 'frame',\n",
       " 'frame_attributes',\n",
       " 'frame_specific_representation_info',\n",
       " 'from_name',\n",
       " 'from_pixel',\n",
       " 'galactic',\n",
       " 'galacticlsr',\n",
       " 'galactocentric',\n",
       " 'galcen_coord',\n",
       " 'galcen_distance',\n",
       " 'galcen_v_sun',\n",
       " 'gcrs',\n",
       " 'geocentricmeanecliptic',\n",
       " 'geocentrictrueecliptic',\n",
       " 'get_constellation',\n",
       " 'get_frame_attr_names',\n",
       " 'get_representation_cls',\n",
       " 'get_representation_component_names',\n",
       " 'get_representation_component_units',\n",
       " 'guess_from_table',\n",
       " 'has_data',\n",
       " 'hcrs',\n",
       " 'heliocentriceclipticiau76',\n",
       " 'heliocentricmeanecliptic',\n",
       " 'heliocentrictrueecliptic',\n",
       " 'icrs',\n",
       " 'info',\n",
       " 'is_equivalent_frame',\n",
       " 'is_frame_attr_default',\n",
       " 'is_transformable_to',\n",
       " 'isscalar',\n",
       " 'itrs',\n",
       " 'location',\n",
       " 'lsr',\n",
       " 'match_to_catalog_3d',\n",
       " 'match_to_catalog_sky',\n",
       " 'name',\n",
       " 'ndim',\n",
       " 'obliquity',\n",
       " 'obsgeoloc',\n",
       " 'obsgeovel',\n",
       " 'obstime',\n",
       " 'obswl',\n",
       " 'pm_dec',\n",
       " 'pm_ra_cosdec',\n",
       " 'position_angle',\n",
       " 'precessedgeocentric',\n",
       " 'pressure',\n",
       " 'proper_motion',\n",
       " 'ra',\n",
       " 'radial_velocity',\n",
       " 'radial_velocity_correction',\n",
       " 'ravel',\n",
       " 'realize_frame',\n",
       " 'relative_humidity',\n",
       " 'replicate',\n",
       " 'replicate_without_data',\n",
       " 'represent_as',\n",
       " 'representation',\n",
       " 'representation_component_names',\n",
       " 'representation_component_units',\n",
       " 'representation_info',\n",
       " 'representation_type',\n",
       " 'reshape',\n",
       " 'roll',\n",
       " 'search_around_3d',\n",
       " 'search_around_sky',\n",
       " 'separation',\n",
       " 'separation_3d',\n",
       " 'set_representation_cls',\n",
       " 'shape',\n",
       " 'size',\n",
       " 'skyoffset_frame',\n",
       " 'spherical',\n",
       " 'spherical_offsets_to',\n",
       " 'sphericalcoslat',\n",
       " 'squeeze',\n",
       " 'supergalactic',\n",
       " 'swapaxes',\n",
       " 'take',\n",
       " 'temperature',\n",
       " 'to_pixel',\n",
       " 'to_string',\n",
       " 'transform_to',\n",
       " 'transpose',\n",
       " 'v_bary',\n",
       " 'velocity',\n",
       " 'z_sun']"
      ]
     },
     "execution_count": 31,
     "metadata": {},
     "output_type": "execute_result"
    }
   ],
   "source": [
    "dir(hcg7_center)"
   ]
  },
  {
   "cell_type": "code",
   "execution_count": 32,
   "metadata": {},
   "outputs": [
    {
     "name": "stdout",
     "output_type": "stream",
     "text": [
      "9d48m58.5s 0d53m17s\n"
     ]
    }
   ],
   "source": [
    "print(hcg7_center.ra, hcg7_center.dec)"
   ]
  },
  {
   "cell_type": "code",
   "execution_count": 33,
   "metadata": {},
   "outputs": [
    {
     "data": {
      "text/plain": [
       "(<Longitude 9.81625 deg>, <Latitude 0.88805556 deg>)"
      ]
     },
     "execution_count": 33,
     "metadata": {},
     "output_type": "execute_result"
    }
   ],
   "source": [
    "hcg7_center.ra, hcg7_center.dec"
   ]
  },
  {
   "cell_type": "code",
   "execution_count": 34,
   "metadata": {},
   "outputs": [
    {
     "data": {
      "text/plain": [
       "<SkyCoord (ICRS): (ra, dec) in deg\n",
       "    (9.81625, 0.88805556)>"
      ]
     },
     "execution_count": 34,
     "metadata": {},
     "output_type": "execute_result"
    }
   ],
   "source": [
    "hcg7_center"
   ]
  },
  {
   "cell_type": "code",
   "execution_count": 35,
   "metadata": {},
   "outputs": [
    {
     "data": {
      "text/plain": [
       "0.6544166666666668"
      ]
     },
     "execution_count": 35,
     "metadata": {},
     "output_type": "execute_result"
    }
   ],
   "source": [
    "hcg7_center.ra.hour"
   ]
  },
  {
   "cell_type": "markdown",
   "metadata": {},
   "source": [
    "## Obtener la imagen\n",
    "\n",
    "Tenemos un objeto de tipo `SkyCoord`.   Ahora lo podemos usar para acceder a datos de [Sloan Digitial Sky Survey](http://www.sdss.org/).  Primero tratemos de obtener una imagen del objeto de estudio."
   ]
  },
  {
   "cell_type": "code",
   "execution_count": 36,
   "metadata": {},
   "outputs": [
    {
     "data": {
      "text/plain": [
       "('HCG7_SDSS_cutout.jpg', <http.client.HTTPMessage at 0x7f1eb0826160>)"
      ]
     },
     "execution_count": 36,
     "metadata": {},
     "output_type": "execute_result"
    }
   ],
   "source": [
    "# tell the SDSS service how big of a cutout we want\n",
    "im_size = 12*u.arcmin # get a 12 arcmin square\n",
    "im_pixels = 1024 \n",
    "cutoutbaseurl = 'http://skyservice.pha.jhu.edu/DR12/ImgCutout/getjpeg.aspx'\n",
    "query_string = urlencode(dict(ra=hcg7_center.ra.deg, \n",
    "                              dec=hcg7_center.dec.deg, \n",
    "                              width=im_pixels, height=im_pixels, \n",
    "                              scale=im_size.to(u.arcsec).value/im_pixels))\n",
    "url = cutoutbaseurl + '?' + query_string\n",
    "\n",
    "# this downloads the image to your disk\n",
    "urlretrieve(url, 'HCG7_SDSS_cutout.jpg')"
   ]
  },
  {
   "cell_type": "code",
   "execution_count": 37,
   "metadata": {},
   "outputs": [
    {
     "data": {
      "image/jpeg": "[encoded data removed]",
      "text/plain": [
       "<IPython.core.display.Image object>"
      ]
     },
     "execution_count": 37,
     "metadata": {},
     "output_type": "execute_result"
    }
   ],
   "source": [
    "Image('HCG7_SDSS_cutout.jpg')"
   ]
  },
  {
   "cell_type": "code",
   "execution_count": null,
   "metadata": {},
   "outputs": [],
   "source": []
  },
  {
   "cell_type": "code",
   "execution_count": null,
   "metadata": {},
   "outputs": [],
   "source": []
  },
  {
   "cell_type": "markdown",
   "metadata": {},
   "source": [
    "## 2. Transformaciones entre sistemas de coordenadas\n",
    "\n",
    "Veremos cómo definir coordenadas astronómicas y transformar enrte diferentes sistemas."
   ]
  },
  {
   "cell_type": "code",
   "execution_count": 40,
   "metadata": {},
   "outputs": [],
   "source": [
    "from astropy import units as u\n",
    "from astropy.coordinates import SkyCoord\n",
    "import numpy as np"
   ]
  },
  {
   "cell_type": "code",
   "execution_count": 41,
   "metadata": {},
   "outputs": [],
   "source": [
    "from astropy.visualization import astropy_mpl_style\n",
    "import matplotlib.pyplot as plt\n",
    "plt.style.use(astropy_mpl_style)\n",
    "%matplotlib inline"
   ]
  },
  {
   "cell_type": "markdown",
   "metadata": {},
   "source": [
    "### Transformaciones entre sistemas"
   ]
  },
  {
   "cell_type": "code",
   "execution_count": 42,
   "metadata": {},
   "outputs": [
    {
     "data": {
      "image/gif": "[encoded data removed]",
      "text/plain": [
       "<IPython.core.display.Image object>"
      ]
     },
     "execution_count": 42,
     "metadata": {},
     "output_type": "execute_result"
    }
   ],
   "source": [
    "from IPython.display import Image\n",
    "Image(\"../images/Ecliptic_equator_galactic_anim.gif\")"
   ]
  },
  {
   "cell_type": "markdown",
   "metadata": {},
   "source": [
    "Hay tres formas de transformar entre coordenadas:\n",
    "- usando atributos\n",
    "- usando el método (función) transform_to con un objecto tipo coordenada\n",
    "- usando el método (función) transform_to con un objecto tipo string"
   ]
  },
  {
   "cell_type": "markdown",
   "metadata": {},
   "source": [
    "#### Transformar coordinadas usando attributos:"
   ]
  },
  {
   "cell_type": "code",
   "execution_count": 43,
   "metadata": {},
   "outputs": [
    {
     "data": {
      "text/plain": [
       "<SkyCoord (Galactic): (l, b) in deg\n",
       "    (116.47556718, -61.83099914)>"
      ]
     },
     "execution_count": 43,
     "metadata": {},
     "output_type": "execute_result"
    }
   ],
   "source": [
    "hcg7_center.galactic"
   ]
  },
  {
   "cell_type": "markdown",
   "metadata": {},
   "source": [
    "#### Transformar coordinadas usando transform_to() y un objeto tipo coordenada"
   ]
  },
  {
   "cell_type": "markdown",
   "metadata": {},
   "source": [
    "The above is actually a special \"quick-access\" form that internally does the same as what's in the cell below: it uses the [`transform_to()`](http://docs.astropy.org/en/stable/api/astropy.coordinates.SkyCoord.html#astropy.coordinates.SkyCoord.transform_to) method to convert from one frame to another. We can pass in an empty coordinate class to specify what coordinate system to transform into."
   ]
  },
  {
   "cell_type": "code",
   "execution_count": 47,
   "metadata": {},
   "outputs": [
    {
     "data": {
      "text/plain": [
       "<SkyCoord (Galactic): (l, b) in deg\n",
       "    (116.47556718, -61.83099914)>"
      ]
     },
     "execution_count": 47,
     "metadata": {},
     "output_type": "execute_result"
    }
   ],
   "source": [
    "from astropy.coordinates import Galactic  # new coordinate baseclass\n",
    "hcg7_center.transform_to(Galactic())\n",
    "# Galactic?"
   ]
  },
  {
   "cell_type": "markdown",
   "metadata": {},
   "source": [
    "#### Transformar coordinadas usando transform_to() y un objeto tipo string"
   ]
  },
  {
   "cell_type": "markdown",
   "metadata": {},
   "source": [
    "Finally, we can transform using the `transform_to()` method and a string with the name of a built-in coordinate system."
   ]
  },
  {
   "cell_type": "code",
   "execution_count": 48,
   "metadata": {},
   "outputs": [
    {
     "data": {
      "text/plain": [
       "<SkyCoord (Galactic): (l, b) in deg\n",
       "    (116.47556718, -61.83099914)>"
      ]
     },
     "execution_count": 48,
     "metadata": {},
     "output_type": "execute_result"
    }
   ],
   "source": [
    "hcg7_center.transform_to('galactic')"
   ]
  },
  {
   "cell_type": "markdown",
   "metadata": {},
   "source": [
    "Hay disponibles muchos sistemas y equinoccios, los disponibles por defecto son:\n",
    "\n",
    " - ICRS\n",
    " - FK5\n",
    " - FK4\n",
    " - FK4NoETerms\n",
    " - Galactic\n",
    " - Galactocentric\n",
    " - Supergalactic\n",
    " - **AltAz**\n",
    " - GCRS\n",
    " - CIRS\n",
    " - ITRS\n",
    " - HCRS\n",
    " - PrecessedGeocentric\n",
    " - GeocentricTrueEcliptic\n",
    " - BarycentricTrueEcliptic\n",
    " - HeliocentricTrueEcliptic\n",
    " - SkyOffsetFrame\n",
    " - GalacticLSR\n",
    " - LSR\n",
    " - BaseEclipticFrame\n",
    " - BaseRADecFrame"
   ]
  },
  {
   "cell_type": "code",
   "execution_count": 49,
   "metadata": {},
   "outputs": [
    {
     "name": "stdout",
     "output_type": "stream",
     "text": [
      "<SkyCoord (FK5: equinox=J2000.000): (ra, dec) in deg\n",
      "    (9.81625645, 0.88805711)>\n"
     ]
    }
   ],
   "source": [
    "hcg7_center_fk5 = hcg7_center.transform_to('fk5')\n",
    "print(hcg7_center_fk5)"
   ]
  },
  {
   "cell_type": "markdown",
   "metadata": {},
   "source": [
    "También podemos cambiar el equinoccio:"
   ]
  },
  {
   "cell_type": "code",
   "execution_count": 50,
   "metadata": {},
   "outputs": [
    {
     "data": {
      "text/plain": [
       "<SkyCoord (FK5: equinox=J1975.000): (ra, dec) in deg\n",
       "    (9.49565759, 0.75084204)>"
      ]
     },
     "execution_count": 50,
     "metadata": {},
     "output_type": "execute_result"
    }
   ],
   "source": [
    "from astropy.coordinates import FK5\n",
    "hcg7_center_fk5.transform_to(FK5(equinox='J1975'))  # precess to a different equinox  "
   ]
  },
  {
   "cell_type": "markdown",
   "metadata": {},
   "source": [
    "Cada 'frame' o sistema tiene diferentes atributos.   Por ejemplo, una vez que tenemos las coordenadas en el sistema galáctico, no podemos acceder a 'alfa' y 'delta', pero si a las coordenadas galácticas ('l' y 'b'):"
   ]
  },
  {
   "cell_type": "code",
   "execution_count": 51,
   "metadata": {},
   "outputs": [
    {
     "name": "stdout",
     "output_type": "stream",
     "text": [
      "116d28m32.0419s -61d49m51.5969s\n"
     ]
    }
   ],
   "source": [
    "print(hcg7_center.galactic.l, hcg7_center.galactic.b)"
   ]
  },
  {
   "cell_type": "markdown",
   "metadata": {},
   "source": [
    "### Transformar para obtener las coordenadas horizontales"
   ]
  },
  {
   "cell_type": "markdown",
   "metadata": {},
   "source": [
    "Para trabajar en coordenadas horizontales, necesitamos *definir un observador*.  Esto incluye:\n",
    "- dónde se va a observar\n",
    "- cuando se va a observar"
   ]
  },
  {
   "cell_type": "code",
   "execution_count": 52,
   "metadata": {},
   "outputs": [],
   "source": [
    "from astropy.coordinates import EarthLocation\n",
    "from astropy.time import Time"
   ]
  },
  {
   "cell_type": "code",
   "execution_count": 53,
   "metadata": {},
   "outputs": [],
   "source": [
    "# Por ejemplo: Kitt Peak, Arizona\n",
    "kitt_peak = EarthLocation(lat='31d57.5m', lon='-111d35.8m', height=2096*u.m)"
   ]
  },
  {
   "cell_type": "markdown",
   "metadata": {},
   "source": [
    "En algunos sitios 'famosos', se puede usar el nombre directamente:"
   ]
  },
  {
   "cell_type": "code",
   "execution_count": 54,
   "metadata": {},
   "outputs": [],
   "source": [
    "kitt_peak = EarthLocation.of_site('Kitt Peak')"
   ]
  },
  {
   "cell_type": "markdown",
   "metadata": {},
   "source": [
    "Cuáles son los sitios famosos?  Estos:"
   ]
  },
  {
   "cell_type": "code",
   "execution_count": 55,
   "metadata": {},
   "outputs": [
    {
     "data": {
      "text/plain": [
       "['',\n",
       " '',\n",
       " '',\n",
       " 'ALMA',\n",
       " 'ATST',\n",
       " 'Anglo-Australian Observatory',\n",
       " 'Apache Point',\n",
       " 'Apache Point Observatory',\n",
       " 'Atacama Large Millimeter Array',\n",
       " 'BAO',\n",
       " 'BBSO',\n",
       " 'Beijing XingLong Observatory',\n",
       " 'Black Moshannon Observatory',\n",
       " 'CHARA',\n",
       " 'Canada-France-Hawaii Telescope',\n",
       " 'Catalina Observatory',\n",
       " 'Cerro Pachon',\n",
       " 'Cerro Paranal',\n",
       " 'Cerro Tololo',\n",
       " 'Cerro Tololo Interamerican Observatory',\n",
       " 'DCT',\n",
       " 'DKIST',\n",
       " 'Discovery Channel Telescope',\n",
       " 'Dominion Astrophysical Observatory',\n",
       " 'GBT',\n",
       " 'Gemini South',\n",
       " 'Green Bank Telescope',\n",
       " 'Hale Telescope',\n",
       " 'Haleakala Observatories',\n",
       " 'Happy Jack',\n",
       " 'IAO',\n",
       " 'JCMT',\n",
       " 'James Clerk Maxwell Telescope',\n",
       " 'Jansky Very Large Array',\n",
       " 'Keck Observatory',\n",
       " 'Kitt Peak',\n",
       " 'Kitt Peak National Observatory',\n",
       " 'La Silla Observatory',\n",
       " 'Large Binocular Telescope',\n",
       " 'Las Campanas Observatory',\n",
       " 'Lick Observatory',\n",
       " 'Lowell Observatory',\n",
       " 'MWA',\n",
       " 'Manastash Ridge Observatory',\n",
       " 'McDonald Observatory',\n",
       " 'Medicina',\n",
       " 'Medicina Dish',\n",
       " 'Michigan-Dartmouth-MIT Observatory',\n",
       " 'Mount Graham International Observatory',\n",
       " 'Mt Graham',\n",
       " 'Mt. Ekar 182 cm. Telescope',\n",
       " 'Mt. Stromlo Observatory',\n",
       " 'Multiple Mirror Telescope',\n",
       " 'Murchison Widefield Array',\n",
       " 'NOV',\n",
       " 'NST',\n",
       " 'National Observatory of Venezuela',\n",
       " 'Noto',\n",
       " 'Observatorio Astronomico Nacional, San Pedro Martir',\n",
       " 'Observatorio Astronomico Nacional, Tonantzintla',\n",
       " 'Palomar',\n",
       " 'Paranal Observatory',\n",
       " 'Roque de los Muchachos',\n",
       " 'SAAO',\n",
       " 'SALT',\n",
       " 'SPO',\n",
       " 'SRT',\n",
       " 'Sac Peak',\n",
       " 'Sacramento Peak',\n",
       " 'Siding Spring Observatory',\n",
       " 'Southern African Large Telescope',\n",
       " 'Subaru',\n",
       " 'Subaru Telescope',\n",
       " 'Sunspot',\n",
       " 'Sutherland',\n",
       " 'TUG',\n",
       " 'UKIRT',\n",
       " 'United Kingdom Infrared Telescope',\n",
       " 'Vainu Bappu Observatory',\n",
       " 'Very Large Array',\n",
       " 'W. M. Keck Observatory',\n",
       " 'Whipple',\n",
       " 'Whipple Observatory',\n",
       " 'aao',\n",
       " 'alma',\n",
       " 'apo',\n",
       " 'bbso',\n",
       " 'bmo',\n",
       " 'cfht',\n",
       " 'ctio',\n",
       " 'dao',\n",
       " 'dct',\n",
       " 'dkist',\n",
       " 'ekar',\n",
       " 'example_site',\n",
       " 'flwo',\n",
       " 'gbt',\n",
       " 'gemini_north',\n",
       " 'gemini_south',\n",
       " 'gemn',\n",
       " 'gems',\n",
       " 'greenwich',\n",
       " 'haleakala',\n",
       " 'iao',\n",
       " 'irtf',\n",
       " 'jcmt',\n",
       " 'keck',\n",
       " 'kpno',\n",
       " 'lapalma',\n",
       " 'lasilla',\n",
       " 'lbt',\n",
       " 'lco',\n",
       " 'lick',\n",
       " 'lowell',\n",
       " 'mcdonald',\n",
       " 'mdm',\n",
       " 'medicina',\n",
       " 'mmt',\n",
       " 'mro',\n",
       " 'mso',\n",
       " 'mtbigelow',\n",
       " 'mwa',\n",
       " 'mwo',\n",
       " 'noto',\n",
       " 'ohp',\n",
       " 'paranal',\n",
       " 'salt',\n",
       " 'sirene',\n",
       " 'spm',\n",
       " 'spo',\n",
       " 'srt',\n",
       " 'sso',\n",
       " 'tona',\n",
       " 'tug',\n",
       " 'ukirt',\n",
       " 'vbo',\n",
       " 'vla']"
      ]
     },
     "execution_count": 55,
     "metadata": {},
     "output_type": "execute_result"
    }
   ],
   "source": [
    "EarthLocation.get_site_names()"
   ]
  },
  {
   "cell_type": "markdown",
   "metadata": {},
   "source": [
    "## 3. Planificando una observación"
   ]
  },
  {
   "cell_type": "markdown",
   "metadata": {},
   "source": [
    "Sabemos que vamos a observar para la hora local, pero conviene trabajar en un sistema de tiempo denominado **tiempo universal coordinado (UTC)**\n"
   ]
  },
  {
   "cell_type": "code",
   "execution_count": 56,
   "metadata": {},
   "outputs": [],
   "source": [
    "import datetime\n",
    "\n",
    "# definimos el huso horario del lugar de observacion\n",
    "local = pytz.timezone (\"America/Argentina/Salta\")\n",
    "\n",
    "# cuando?\n",
    "t_local = datetime.datetime.strptime (\"2019-10-04 20:00:00\", \"%Y-%m-%d %H:%M:%S\")"
   ]
  },
  {
   "cell_type": "code",
   "execution_count": 57,
   "metadata": {},
   "outputs": [],
   "source": [
    "# calcular el tiempo universal coordinado\n",
    "fecha_observacion = t_local.astimezone(pytz.utc)"
   ]
  },
  {
   "cell_type": "code",
   "execution_count": 58,
   "metadata": {},
   "outputs": [],
   "source": [
    "fecha_observacion?"
   ]
  },
  {
   "cell_type": "code",
   "execution_count": 59,
   "metadata": {},
   "outputs": [],
   "source": [
    "d = fecha_observacion.strftime('%Y-%m-%m %H:%M')"
   ]
  },
  {
   "cell_type": "code",
   "execution_count": 60,
   "metadata": {},
   "outputs": [],
   "source": [
    "fecha_observacion = Time(d)"
   ]
  },
  {
   "cell_type": "code",
   "execution_count": 64,
   "metadata": {},
   "outputs": [
    {
     "data": {
      "text/plain": [
       "<Time object: scale='utc' format='iso' value=2019-10-10 23:00:00.000>"
      ]
     },
     "execution_count": 64,
     "metadata": {},
     "output_type": "execute_result"
    }
   ],
   "source": [
    "fecha_observacion"
   ]
  },
  {
   "cell_type": "code",
   "execution_count": 65,
   "metadata": {},
   "outputs": [
    {
     "name": "stdout",
     "output_type": "stream",
     "text": [
      "<AltAz Frame (obstime=2019-10-10 23:00:00.000, location=(-1994502.60430614, -5037538.54232911, 3358104.99690298) m, pressure=0.0 hPa, temperature=0.0 deg_C, relative_humidity=0.0, obswl=1.0 micron)>\n"
     ]
    }
   ],
   "source": [
    "from astropy.coordinates import AltAz\n",
    "\n",
    "aa = AltAz(location=kitt_peak, obstime=fecha_observacion)\n",
    "print(aa)"
   ]
  },
  {
   "cell_type": "markdown",
   "metadata": {},
   "source": [
    "Ahora podemos transformar del sistema ICRS al sistema local (AltAz), en el lugar y momento de la observación."
   ]
  },
  {
   "cell_type": "code",
   "execution_count": 66,
   "metadata": {},
   "outputs": [
    {
     "data": {
      "text/plain": [
       "<SkyCoord (AltAz: obstime=2019-10-10 23:00:00.000, location=(-1994502.60430614, -5037538.54232911, 3358104.99690298) m, pressure=0.0 hPa, temperature=0.0 deg_C, relative_humidity=0.0, obswl=1.0 micron): (az, alt) in deg\n",
       "    (73.76229882, -22.42032357)>"
      ]
     },
     "execution_count": 66,
     "metadata": {},
     "output_type": "execute_result"
    }
   ],
   "source": [
    "hcg7_center.transform_to(aa)"
   ]
  },
  {
   "cell_type": "markdown",
   "metadata": {},
   "source": [
    "Para ver la altitud (a esa hora):"
   ]
  },
  {
   "cell_type": "code",
   "execution_count": 67,
   "metadata": {},
   "outputs": [
    {
     "data": {
      "text/latex": [
       "$-22^\\circ25{}^\\prime13.1648{}^{\\prime\\prime}$"
      ],
      "text/plain": [
       "<Latitude -22.42032357 deg>"
      ]
     },
     "execution_count": 67,
     "metadata": {},
     "output_type": "execute_result"
    }
   ],
   "source": [
    "hcg7_center.transform_to(aa).alt"
   ]
  },
  {
   "cell_type": "markdown",
   "metadata": {},
   "source": [
    "Eso es a un horario fijo.   Es más útil obtener información del objeto a distintas horas, por ejemplo, durante la noche.\n",
    "Si esa hora son las 18hs en Kit Peak, veamos las siguientes 12 horas, es decir, estre las 6 de la tarde y las 6 de la mañana del día siguiente.\n",
    "\n",
    "**Vamos a ver:**\n",
    "- la masa de aire\n",
    "- la altura del objeto\n",
    "- la posición del Sol"
   ]
  },
  {
   "cell_type": "markdown",
   "metadata": {},
   "source": [
    "### Determinar el intervalo temporal de interés"
   ]
  },
  {
   "cell_type": "code",
   "execution_count": 69,
   "metadata": {},
   "outputs": [
    {
     "data": {
      "text/latex": [
       "$[0,~0.5,~1,~1.5,~2,~2.5,~3,~3.5,~4,~4.5,~5,~5.5,~6,~6.5,~7,~7.5,~8,~8.5,~9,~9.5,~10] \\; \\mathrm{h}$"
      ],
      "text/plain": [
       "<Quantity [ 0. ,  0.5,  1. ,  1.5,  2. ,  2.5,  3. ,  3.5,  4. ,  4.5,\n",
       "            5. ,  5.5,  6. ,  6.5,  7. ,  7.5,  8. ,  8.5,  9. ,  9.5,\n",
       "           10. ] h>"
      ]
     },
     "execution_count": 69,
     "metadata": {},
     "output_type": "execute_result"
    }
   ],
   "source": [
    "# estudiemos un rango de 12 horas, tomando valores cada media hora\n",
    "rango_horario = np.linspace(0, 10, 10*2+1)*u.hour\n",
    "rango_horario"
   ]
  },
  {
   "cell_type": "code",
   "execution_count": 71,
   "metadata": {},
   "outputs": [
    {
     "data": {
      "text/plain": [
       "<Time object: scale='utc' format='iso' value=['2019-10-10 23:00:00.000' '2019-10-10 23:30:00.000'\n",
       " '2019-10-11 00:00:00.000' '2019-10-11 00:30:00.000'\n",
       " '2019-10-11 01:00:00.000' '2019-10-11 01:30:00.000'\n",
       " '2019-10-11 02:00:00.000' '2019-10-11 02:30:00.000'\n",
       " '2019-10-11 03:00:00.000' '2019-10-11 03:30:00.000'\n",
       " '2019-10-11 04:00:00.000' '2019-10-11 04:30:00.000'\n",
       " '2019-10-11 05:00:00.000' '2019-10-11 05:30:00.000'\n",
       " '2019-10-11 06:00:00.000' '2019-10-11 06:30:00.000'\n",
       " '2019-10-11 07:00:00.000' '2019-10-11 07:30:00.000'\n",
       " '2019-10-11 08:00:00.000' '2019-10-11 08:30:00.000'\n",
       " '2019-10-11 09:00:00.000']>"
      ]
     },
     "execution_count": 71,
     "metadata": {},
     "output_type": "execute_result"
    }
   ],
   "source": [
    "tiempos_noche = fecha_observacion + rango_horario\n",
    "tiempos_noche"
   ]
  },
  {
   "cell_type": "code",
   "execution_count": 74,
   "metadata": {},
   "outputs": [
    {
     "data": {
      "text/plain": [
       "<AltAz Frame (obstime=['2019-10-10 23:00:00.000' '2019-10-10 23:30:00.000'\n",
       " '2019-10-11 00:00:00.000' '2019-10-11 00:30:00.000'\n",
       " '2019-10-11 01:00:00.000' '2019-10-11 01:30:00.000'\n",
       " '2019-10-11 02:00:00.000' '2019-10-11 02:30:00.000'\n",
       " '2019-10-11 03:00:00.000' '2019-10-11 03:30:00.000'\n",
       " '2019-10-11 04:00:00.000' '2019-10-11 04:30:00.000'\n",
       " '2019-10-11 05:00:00.000' '2019-10-11 05:30:00.000'\n",
       " '2019-10-11 06:00:00.000' '2019-10-11 06:30:00.000'\n",
       " '2019-10-11 07:00:00.000' '2019-10-11 07:30:00.000'\n",
       " '2019-10-11 08:00:00.000' '2019-10-11 08:30:00.000'\n",
       " '2019-10-11 09:00:00.000'], location=(-1994502.60430614, -5037538.54232911, 3358104.99690298) m, pressure=0.0 hPa, temperature=0.0 deg_C, relative_humidity=0.0, obswl=1.0 micron)>"
      ]
     },
     "execution_count": 74,
     "metadata": {},
     "output_type": "execute_result"
    }
   ],
   "source": [
    "tiempos_noche_AZ = AltAz(location=kitt_peak, obstime=tiempos_noche)\n",
    "# ahora tenemos los distintos sistemas de coordenadas (uno para cada tiempo)\n",
    "tiempos_noche_AZ"
   ]
  },
  {
   "cell_type": "code",
   "execution_count": 75,
   "metadata": {},
   "outputs": [
    {
     "data": {
      "text/plain": [
       "<SkyCoord (AltAz: obstime=['2019-10-10 23:00:00.000' '2019-10-10 23:30:00.000'\n",
       " '2019-10-11 00:00:00.000' '2019-10-11 00:30:00.000'\n",
       " '2019-10-11 01:00:00.000' '2019-10-11 01:30:00.000'\n",
       " '2019-10-11 02:00:00.000' '2019-10-11 02:30:00.000'\n",
       " '2019-10-11 03:00:00.000' '2019-10-11 03:30:00.000'\n",
       " '2019-10-11 04:00:00.000' '2019-10-11 04:30:00.000'\n",
       " '2019-10-11 05:00:00.000' '2019-10-11 05:30:00.000'\n",
       " '2019-10-11 06:00:00.000' '2019-10-11 06:30:00.000'\n",
       " '2019-10-11 07:00:00.000' '2019-10-11 07:30:00.000'\n",
       " '2019-10-11 08:00:00.000' '2019-10-11 08:30:00.000'\n",
       " '2019-10-11 09:00:00.000'], location=(-1994502.60430614, -5037538.54232911, 3358104.99690298) m, pressure=0.0 hPa, temperature=0.0 deg_C, relative_humidity=0.0, obswl=1.0 micron): (az, alt) in deg\n",
       "    [( 73.76229882, -22.42032357), ( 78.2884022 , -16.22966026),\n",
       "     ( 82.52111154,  -9.93968419), ( 86.57836823,  -3.58943831),\n",
       "     ( 90.56479525,   2.78760902), ( 94.58009858,   9.16022045),\n",
       "     ( 98.72711234,  15.49637777), (103.1203268 ,  21.76009219),\n",
       "     (107.89576983,  27.90747953), (113.22291356,  33.88139322),\n",
       "     (119.31830259,  39.60368489), (126.45728443,  44.96404626),\n",
       "     (134.97099971,  49.80508818), (145.19571418,  53.90690656),\n",
       "     (157.31769449,  56.98469369), (171.09378657,  58.72899778),\n",
       "     (185.64215318,  58.91164908), (199.69217056,  57.50602459),\n",
       "     (212.2308301 ,  54.7033671 ), (222.87839477,  50.80613605),\n",
       "     (231.75137661,  46.11047806)]>"
      ]
     },
     "execution_count": 75,
     "metadata": {},
     "output_type": "execute_result"
    }
   ],
   "source": [
    "f = hcg7_center.transform_to(tiempos_noche_AZ)\n",
    "f"
   ]
  },
  {
   "cell_type": "code",
   "execution_count": 76,
   "metadata": {},
   "outputs": [
    {
     "data": {
      "text/latex": [
       "$[-2.6219309,~-3.5779688,~-5.7933613,~-15.972771,~20.561847,~6.2815729,~3.7428308,~2.6974461,~2.1365459,~1.7938007,~1.5686926,~1.4151018,~1.3091518,~1.2375305,~1.1925702,~1.1699715,~1.1677167,~1.1856096,~1.2252326,~1.2903023,~1.3875824] \\; \\mathrm{}$"
      ],
      "text/plain": [
       "<Quantity [ -2.62193092,  -3.5779688 ,  -5.79336128, -15.97277066,\n",
       "            20.56184697,   6.2815729 ,   3.74283077,   2.69744608,\n",
       "             2.13654588,   1.7938007 ,   1.56869255,   1.41510183,\n",
       "             1.30915182,   1.23753049,   1.19257023,   1.16997153,\n",
       "             1.16771672,   1.18560963,   1.22523262,   1.29030232,\n",
       "             1.38758243]>"
      ]
     },
     "execution_count": 76,
     "metadata": {},
     "output_type": "execute_result"
    }
   ],
   "source": [
    "# la masa de aire es la secante de la altura... (por qué?)\n",
    "f.secz"
   ]
  },
  {
   "cell_type": "code",
   "execution_count": 77,
   "metadata": {},
   "outputs": [
    {
     "data": {
      "image/png": "[encoded data removed]",
      "text/plain": [
       "<Figure size 432x288 with 1 Axes>"
      ]
     },
     "metadata": {
      "needs_background": "light"
     },
     "output_type": "display_data"
    }
   ],
   "source": [
    "plt.plot(rango_horario, f.secz)\n",
    "plt.xlabel('horas a partir de la 6 de la tarde')\n",
    "plt.ylabel('masa de aire [Sec(z)]')\n",
    "plt.ylim(0.9,3)\n",
    "plt.tight_layout()"
   ]
  },
  {
   "cell_type": "markdown",
   "metadata": {},
   "source": [
    "Excelente!  A qué hora deberíamos observar entonces?  Depende... de la hora en que sale y se pone el Sol"
   ]
  },
  {
   "cell_type": "code",
   "execution_count": 78,
   "metadata": {},
   "outputs": [
    {
     "data": {
      "text/plain": [
       "<SkyCoord (AltAz: obstime=['2019-10-10 23:00:00.000' '2019-10-10 23:30:00.000'\n",
       " '2019-10-11 00:00:00.000' '2019-10-11 00:30:00.000'\n",
       " '2019-10-11 01:00:00.000' '2019-10-11 01:30:00.000'\n",
       " '2019-10-11 02:00:00.000' '2019-10-11 02:30:00.000'\n",
       " '2019-10-11 03:00:00.000' '2019-10-11 03:30:00.000'\n",
       " '2019-10-11 04:00:00.000' '2019-10-11 04:30:00.000'\n",
       " '2019-10-11 05:00:00.000' '2019-10-11 05:30:00.000'\n",
       " '2019-10-11 06:00:00.000' '2019-10-11 06:30:00.000'\n",
       " '2019-10-11 07:00:00.000' '2019-10-11 07:30:00.000'\n",
       " '2019-10-11 08:00:00.000' '2019-10-11 08:30:00.000'\n",
       " '2019-10-11 09:00:00.000'], location=(-1994502.60430614, -5037538.54232911, 3358104.99690298) m, pressure=0.0 hPa, temperature=0.0 deg_C, relative_humidity=0.0, obswl=1.0 micron): (az, alt, distance) in (deg, deg, m)\n",
       "    [(244.85345155,  23.58600067, 1.49373955e+11),\n",
       "     (249.74829962,  17.7100164 , 1.49373661e+11),\n",
       "     (254.23287546,  11.6536476 , 1.49373408e+11),\n",
       "     (258.42804583,   5.46627973, 1.49373184e+11),\n",
       "     (262.43961165,  -0.81247159, 1.49372977e+11),\n",
       "     (266.36483837,  -7.14911531, 1.49372776e+11),\n",
       "     (270.29936259, -13.51327169, 1.49372568e+11),\n",
       "     (274.34487457, -19.87487944, 1.49372341e+11),\n",
       "     (278.6184859 , -26.20116598, 1.49372084e+11),\n",
       "     (283.26519513, -32.45278355, 1.49371786e+11),\n",
       "     (288.47542061, -38.57820992, 1.49371437e+11),\n",
       "     (294.50979962, -44.50494864, 1.49371026e+11),\n",
       "     (301.73145154, -50.12519568, 1.49370545e+11),\n",
       "     (310.63475856, -55.27294821, 1.49369988e+11),\n",
       "     (321.82013538, -59.69200265, 1.49369348e+11),\n",
       "     (335.77203038, -63.01045586, 1.49368621e+11),\n",
       "     (352.26410875, -64.78216336, 1.49367803e+11),\n",
       "     (  9.76051442, -64.67678594, 1.49366893e+11),\n",
       "     ( 26.02547316, -62.71648017, 1.49365892e+11),\n",
       "     ( 39.66751407, -59.25768626, 1.49364801e+11),\n",
       "     ( 50.57607794, -54.74484536, 1.49363623e+11)]>"
      ]
     },
     "execution_count": 78,
     "metadata": {},
     "output_type": "execute_result"
    }
   ],
   "source": [
    "from astropy.coordinates import get_sun\n",
    "\n",
    "sol_coos = get_sun(tiempos_noche).transform_to(tiempos_noche_AZ)\n",
    "sol_coos"
   ]
  },
  {
   "cell_type": "code",
   "execution_count": 79,
   "metadata": {},
   "outputs": [
    {
     "data": {
      "image/png": "[encoded data removed]",
      "text/plain": [
       "<Figure size 432x288 with 1 Axes>"
      ]
     },
     "metadata": {
      "needs_background": "light"
     },
     "output_type": "display_data"
    }
   ],
   "source": [
    "plt.plot(rango_horario, sol_coos.alt.deg)\n",
    "plt.axhline(-18, color='k')\n",
    "plt.xlabel('horas a partir de la 6 de la tarde')\n",
    "plt.ylabel('altura del Sol [grados]')\n",
    "plt.tight_layout()"
   ]
  },
  {
   "cell_type": "markdown",
   "metadata": {},
   "source": [
    "Finalmente vemos la altura del objeto durante la noche:"
   ]
  },
  {
   "cell_type": "code",
   "execution_count": 80,
   "metadata": {},
   "outputs": [],
   "source": [
    "hcg7_center = SkyCoord(9.81625*u.deg, 0.88806*u.deg, frame='icrs')\n",
    "\n",
    "h = []\n",
    "for t in tiempos_noche:\n",
    "    kitt_peak_aa = AltAz(location=kitt_peak, obstime=t)\n",
    "    h.append(hcg7_center.transform_to(kitt_peak_aa).alt.deg)"
   ]
  },
  {
   "cell_type": "code",
   "execution_count": 81,
   "metadata": {},
   "outputs": [
    {
     "data": {
      "image/png": "[encoded data removed]",
      "text/plain": [
       "<Figure size 432x288 with 1 Axes>"
      ]
     },
     "metadata": {
      "needs_background": "light"
     },
     "output_type": "display_data"
    }
   ],
   "source": [
    "plt.plot(rango_horario, h)\n",
    "plt.axhline(-18, color='k')\n",
    "plt.xlabel('horas a partir de la 6 de la tarde')\n",
    "plt.ylabel('altura del objeto [grados]')\n",
    "plt.tight_layout()"
   ]
  },
  {
   "cell_type": "code",
   "execution_count": null,
   "metadata": {},
   "outputs": [],
   "source": []
  },
  {
   "cell_type": "code",
   "execution_count": null,
   "metadata": {},
   "outputs": [],
   "source": []
  },
  {
   "cell_type": "code",
   "execution_count": null,
   "metadata": {},
   "outputs": [],
   "source": []
  },
  {
   "cell_type": "code",
   "execution_count": null,
   "metadata": {},
   "outputs": [],
   "source": []
  },
  {
   "cell_type": "markdown",
   "metadata": {},
   "source": [
    "# Ahora con astroplan"
   ]
  },
  {
   "cell_type": "code",
   "execution_count": null,
   "metadata": {},
   "outputs": [],
   "source": []
  },
  {
   "cell_type": "code",
   "execution_count": null,
   "metadata": {},
   "outputs": [],
   "source": []
  },
  {
   "cell_type": "code",
   "execution_count": 82,
   "metadata": {},
   "outputs": [],
   "source": [
    "from astropy.time import Time\n",
    "import astropy as ap\n",
    "import numpy as np\n",
    "from astropy import units as u"
   ]
  },
  {
   "cell_type": "markdown",
   "metadata": {},
   "source": [
    "### tiempos de observacion"
   ]
  },
  {
   "cell_type": "code",
   "execution_count": 83,
   "metadata": {},
   "outputs": [],
   "source": [
    "observe_time = Time('2016-09-01 00:00')\n",
    "observe_time = observe_time + np.linspace(-12, 12, 24)*u.hour"
   ]
  },
  {
   "cell_type": "code",
   "execution_count": 84,
   "metadata": {},
   "outputs": [
    {
     "data": {
      "text/plain": [
       "<Time object: scale='utc' format='iso' value=['2016-08-31 12:00:00.000' '2016-08-31 13:02:36.522'\n",
       " '2016-08-31 14:05:13.043' '2016-08-31 15:07:49.565'\n",
       " '2016-08-31 16:10:26.087' '2016-08-31 17:13:02.609'\n",
       " '2016-08-31 18:15:39.130' '2016-08-31 19:18:15.652'\n",
       " '2016-08-31 20:20:52.174' '2016-08-31 21:23:28.696'\n",
       " '2016-08-31 22:26:05.217' '2016-08-31 23:28:41.739'\n",
       " '2016-09-01 00:31:18.261' '2016-09-01 01:33:54.783'\n",
       " '2016-09-01 02:36:31.304' '2016-09-01 03:39:07.826'\n",
       " '2016-09-01 04:41:44.348' '2016-09-01 05:44:20.870'\n",
       " '2016-09-01 06:46:57.391' '2016-09-01 07:49:33.913'\n",
       " '2016-09-01 08:52:10.435' '2016-09-01 09:54:46.957'\n",
       " '2016-09-01 10:57:23.478' '2016-09-01 12:00:00.000']>"
      ]
     },
     "execution_count": 84,
     "metadata": {},
     "output_type": "execute_result"
    }
   ],
   "source": [
    "observe_time"
   ]
  },
  {
   "cell_type": "code",
   "execution_count": null,
   "metadata": {},
   "outputs": [],
   "source": []
  },
  {
   "cell_type": "code",
   "execution_count": 87,
   "metadata": {},
   "outputs": [
    {
     "name": "stderr",
     "output_type": "stream",
     "text": [
      "WARNING: AstropyDeprecationWarning: astropy.extern.six will be removed in 4.0, use the six module directly if it is still needed [astropy.extern.six]\n"
     ]
    }
   ],
   "source": [
    "\n",
    "import time\n",
    "\n",
    "import astropy.units as u\n",
    "from astropy.coordinates import EarthLocation\n",
    "from astropy.time import Time\n",
    "from pytz import timezone\n",
    "from astroplan import Observer\n",
    "\n",
    "\n",
    "latitude = '-31.5983d'\n",
    "longitude = '-64.5467d'\n",
    "elevation = 1350 * u.m\n",
    "location = EarthLocation.from_geodetic(longitude, latitude, elevation)\n",
    "obs_eaba = Observer(name='EABA',\n",
    "               location=location,\n",
    "               pressure=0.615 * u.bar,\n",
    "               relative_humidity=0.11,\n",
    "               temperature=0 * u.deg_C,\n",
    "               timezone=timezone('America/Argentina/Cordoba'),\n",
    "               description=\"Estacion Astrofisica Bosque Alegre\")\n"
   ]
  },
  {
   "cell_type": "code",
   "execution_count": 94,
   "metadata": {},
   "outputs": [],
   "source": [
    "obs_date=time.strftime(\"%Y/%m/%d %H:%M\")\n",
    "obs_time = Time.now()\n",
    "# Astronomical cuts\n",
    "dist_lim = 80.  # Mpc\n",
    "app_mag = 18.\n",
    "abs_mag = -18\n",
    "dec_lim = 30."
   ]
  },
  {
   "cell_type": "code",
   "execution_count": 95,
   "metadata": {},
   "outputs": [],
   "source": [
    "sunset = []\n",
    "sunrise = []\n",
    "names = []\n",
    "obs = obs_eaba"
   ]
  },
  {
   "cell_type": "code",
   "execution_count": 96,
   "metadata": {},
   "outputs": [],
   "source": [
    "sunset_tonight = obs.sun_set_time(obs_time, which='next', horizon=-15*u.degree)\n",
    "sunrise_tonight = obs.sun_rise_time(obs_time, which='next', horizon=-15*u.degree)\n",
    "sunset.append((sunset_tonight-3*u.hour).utc.iso)\n",
    "sunrise.append((sunrise_tonight-3*u.hour).utc.iso)\n",
    "names.append(obs.name)\n",
    "\n",
    "from astropy.table import Table\n",
    "\n",
    "sunephem = Table([names, sunset, sunrise], names=('observatory','sunset', 'sunrise'))    "
   ]
  },
  {
   "cell_type": "code",
   "execution_count": 91,
   "metadata": {},
   "outputs": [
    {
     "data": {
      "text/html": [
       "<i>Table length=1</i>\n",
       "<table id=\"table139769618452432\" class=\"table-striped table-bordered table-condensed\">\n",
       "<thead><tr><th>observatory</th><th>sunset</th><th>sunrise</th></tr></thead>\n",
       "<thead><tr><th>str4</th><th>str23</th><th>str23</th></tr></thead>\n",
       "<tr><td>EABA</td><td>2019-10-04 20:30:08.814</td><td>2019-10-04 05:44:21.525</td></tr>\n",
       "</table>"
      ],
      "text/plain": [
       "<Table length=1>\n",
       "observatory          sunset                 sunrise        \n",
       "    str4             str23                   str23         \n",
       "----------- ----------------------- -----------------------\n",
       "       EABA 2019-10-04 20:30:08.814 2019-10-04 05:44:21.525"
      ]
     },
     "execution_count": 91,
     "metadata": {},
     "output_type": "execute_result"
    }
   ],
   "source": [
    "sunephem"
   ]
  }
 ],
 "metadata": {
  "kernelspec": {
   "display_name": "Python 3",
   "language": "python",
   "name": "python3"
  },
  "language_info": {
   "codemirror_mode": {
    "name": "ipython",
    "version": 3
   },
   "file_extension": ".py",
   "mimetype": "text/x-python",
   "name": "python",
   "nbconvert_exporter": "python",
   "pygments_lexer": "ipython3",
   "version": "3.7.3"
  }
 },
 "nbformat": 4,
 "nbformat_minor": 2
}
