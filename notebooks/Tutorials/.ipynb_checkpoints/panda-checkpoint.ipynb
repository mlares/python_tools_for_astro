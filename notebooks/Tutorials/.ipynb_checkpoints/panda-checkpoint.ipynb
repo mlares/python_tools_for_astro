{
 "cells": [
  {
   "cell_type": "code",
   "execution_count": 158,
   "metadata": {},
   "outputs": [],
   "source": [
    "import math as m\n",
    "import numpy as np\n",
    "\n",
    "import pandas\n",
    "\n",
    "import conf as cf\n",
    "from astropy import units as u\n",
    "import matplotlib.pyplot as plt\n",
    "import seaborn\n",
    "%matplotlib inline\n",
    "from pylab import *"
   ]
  },
  {
   "cell_type": "code",
   "execution_count": 159,
   "metadata": {
    "collapsed": true
   },
   "outputs": [],
   "source": [
    "cwd = os.path.abspath(cf.base_dir)\n",
    "\n",
    "plots = os.path.join(cf.base_dir,cf.plots_dir)\n",
    "if not os.path.isdir(plots):\n",
    "    os.mkdir(plots)"
   ]
  },
  {
   "cell_type": "code",
   "execution_count": 160,
   "metadata": {
    "collapsed": true
   },
   "outputs": [],
   "source": [
    "cf.catalog_file = 'GLADE_reduxi.txt'\n",
    "catalog = os.path.join(cf.base_dir,cf.catalog_dir, cf.catalog_file)"
   ]
  },
  {
   "cell_type": "code",
   "execution_count": 161,
   "metadata": {
    "collapsed": true
   },
   "outputs": [],
   "source": [
    "table = pandas.read_csv(catalog)"
   ]
  },
  {
   "cell_type": "code",
   "execution_count": 162,
   "metadata": {},
   "outputs": [],
   "source": [
    "circum_angle = abs(90.*u.degree - abs(cf.observatories[0].location.latitude))"
   ]
  },
  {
   "cell_type": "code",
   "execution_count": 163,
   "metadata": {
    "collapsed": true
   },
   "outputs": [],
   "source": [
    "T = Table.from_pandas(table)"
   ]
  },
  {
   "cell_type": "code",
   "execution_count": 164,
   "metadata": {
    "collapsed": true
   },
   "outputs": [],
   "source": [
    "def is_up_tonight(alpha, delta, sunrise, sunset, observatory):\n",
    "    lat = observatory.location.latitude.degree\n",
    "    circum = 90 - abs(lat)\n",
    "    if abs(delta) > circum and np.sign(delta)==np.sign(lat):\n",
    "        return True\n",
    "    lon = observatory.location.longitude.degree\n",
    "    lst_rise = sunrise.sidereal_time('mean', longitude=lon).degree\n",
    "    lst_set = sunset.sidereal_time('mean', longitude=lon).degree\n",
    "    \n",
    "    if alpha%360 > (lst_set - 70)%360 and alpha%360 < (lst_rise + 70)%360:\n",
    "        return True\n",
    "    return False\n",
    "\n",
    "def alpha_cuts(observation_time, horizon=-15*u.degree, min_height=45*u.degree):\n",
    "    sun = get_sun(observation_time)\n",
    "    horiz = horizon.to(u.degree)\n",
    "    h = min_height.to(u.degree)\n",
    "    \n",
    "    lowest_alpha = (sun.ra - horiz + h)\n",
    "    highest_alpha = (sun.ra + horiz - h)#.hourangle%24\n",
    "\n",
    "    return (lowest_alpha.to(u.hourangle).value, highest_alpha.to(u.hourangle).value)"
   ]
  },
  {
   "cell_type": "code",
   "execution_count": 165,
   "metadata": {},
   "outputs": [],
   "source": [
    "circum = abs(table['dec']-90.) > circum_angle.value + 90.\n",
    "alpha_obs_min, alpha_obs_max = alpha_cuts(cf.obs_time)\n",
    "dist_lim = 80."
   ]
  },
  {
   "cell_type": "raw",
   "metadata": {},
   "source": [
    "import pandas\n",
    "import matplotlib.pyplot as plt\n",
    "from pandas.tools.plotting import parallel_coordinates\n",
    "parallel_coordinates(table, 'dec')"
   ]
  },
  {
   "cell_type": "code",
   "execution_count": 170,
   "metadata": {},
   "outputs": [],
   "source": [
    "def interp_filter(theta, phi):\n",
    "    return hp.pixelfunc.get_interp_val(aligo_alert_map_high_like, \n",
    "                                       theta, phi, nest=False)\n",
    "\n",
    "def interp(theta, phi):\n",
    "    return hp.pixelfunc.get_interp_val(aligo_banana, \n",
    "                                       theta, phi, nest=False)"
   ]
  },
  {
   "cell_type": "code",
   "execution_count": null,
   "metadata": {
    "collapsed": true
   },
   "outputs": [],
   "source": []
  }
 ],
 "metadata": {
  "kernelspec": {
   "display_name": "Python 3",
   "language": "python",
   "name": "python3"
  },
  "language_info": {
   "codemirror_mode": {
    "name": "ipython",
    "version": 3
   },
   "file_extension": ".py",
   "mimetype": "text/x-python",
   "name": "python",
   "nbconvert_exporter": "python",
   "pygments_lexer": "ipython3",
   "version": "3.7.3"
  },
  "widgets": {
   "state": {},
   "version": "1.1.2"
  }
 },
 "nbformat": 4,
 "nbformat_minor": 1
}
