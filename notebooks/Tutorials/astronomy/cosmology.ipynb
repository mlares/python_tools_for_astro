{
 "cells": [
  {
   "cell_type": "markdown",
   "metadata": {
    "collapsed": true
   },
   "source": [
    "# Cosmology\n",
    "\n",
    "This astropy subpackage allows you to initialise an object representing a given cosmology, and calculate common quantities that depend on this model, such as ages and distances.\n",
    "\n",
    "To start with we'll import the latest (at the time of writing) Planck cosmology."
   ]
  },
  {
   "cell_type": "code",
   "execution_count": 2,
   "metadata": {
    "collapsed": true
   },
   "outputs": [],
   "source": [
    "from astropy.cosmology import Planck15 as planck"
   ]
  },
  {
   "cell_type": "markdown",
   "metadata": {},
   "source": [
    "We can then use this cosmology to get the values of cosmology dependent quantities, such as little h."
   ]
  },
  {
   "cell_type": "code",
   "execution_count": 3,
   "metadata": {},
   "outputs": [
    {
     "data": {
      "text/plain": [
       "0.6774"
      ]
     },
     "execution_count": 3,
     "metadata": {},
     "output_type": "execute_result"
    }
   ],
   "source": [
    "planck.h"
   ]
  },
  {
   "cell_type": "markdown",
   "metadata": {},
   "source": [
    "We can also use our cosmology to calculate distances and volumes. These functions will accept arrays of values. Note that this returns the distance with units."
   ]
  },
  {
   "cell_type": "code",
   "execution_count": 4,
   "metadata": {},
   "outputs": [
    {
     "data": {
      "text/latex": [
       "$[1945.5613,~3395.9055,~4479.0455] \\; \\mathrm{Mpc}$"
      ],
      "text/plain": [
       "<Quantity [ 1945.56133293, 3395.90552491, 4479.04554197] Mpc>"
      ]
     },
     "execution_count": 4,
     "metadata": {},
     "output_type": "execute_result"
    }
   ],
   "source": [
    "planck.comoving_distance([0.5, 1.0, 1.5])"
   ]
  },
  {
   "cell_type": "code",
   "execution_count": 5,
   "metadata": {},
   "outputs": [
    {
     "data": {
      "text/latex": [
       "$[3.0847743 \\times 10^{10},~1.6404213 \\times 10^{11},~3.7639604 \\times 10^{11}] \\; \\mathrm{Mpc^{3}}$"
      ],
      "text/plain": [
       "<Quantity [  3.08477426e+10,  1.64042133e+11,  3.76396039e+11] Mpc3>"
      ]
     },
     "execution_count": 5,
     "metadata": {},
     "output_type": "execute_result"
    }
   ],
   "source": [
    "planck.comoving_volume([0.5,1.0,1.5])"
   ]
  },
  {
   "cell_type": "markdown",
   "metadata": {},
   "source": [
    "You can also specify your own cosmology. Below we import the `FlatLambdaCDM` cosmology, which represents a Friedmann Lemaitre Robertson Walker (FLRW) cosmology with a dark energy model. We then create an instance of this cosmology with values for $H_{0}$ and $\\Omega_{m}$, using the explicit units for each parameter in this case. We also give it a name. Note how the instantiated cosmology has default values for other parameters, such as $T_{CMB}$."
   ]
  },
  {
   "cell_type": "code",
   "execution_count": 6,
   "metadata": {},
   "outputs": [
    {
     "data": {
      "text/plain": [
       "FlatLambdaCDM(name=\"my_cosmo\", H0=70 km / (Mpc s), Om0=0.3, Tcmb0=2.725 K, Neff=3.04, m_nu=[ 0.  0.  0.] eV, Ob0=None)"
      ]
     },
     "execution_count": 6,
     "metadata": {},
     "output_type": "execute_result"
    }
   ],
   "source": [
    "from astropy.cosmology import FlatLambdaCDM\n",
    "import astropy.units as u\n",
    "cosmo = FlatLambdaCDM(name='my_cosmo', H0=70 * u.km / u.s / u.Mpc, Om0=0.3)\n",
    "cosmo"
   ]
  },
  {
   "cell_type": "markdown",
   "metadata": {},
   "source": [
    "We can now find the age of the universe at redshift zero in our cosmology."
   ]
  },
  {
   "cell_type": "code",
   "execution_count": 7,
   "metadata": {},
   "outputs": [
    {
     "data": {
      "text/latex": [
       "$13.461702 \\; \\mathrm{Gyr}$"
      ],
      "text/plain": [
       "<Quantity 13.461701658024014 Gyr>"
      ]
     },
     "execution_count": 7,
     "metadata": {},
     "output_type": "execute_result"
    }
   ],
   "source": [
    "cosmo.age(0) "
   ]
  },
  {
   "cell_type": "markdown",
   "metadata": {},
   "source": [
    "A useful function is `z_at_value`, which tells you the value of z at the given value of a parameter. If a quantity can satisfy multiple redshifts, use the `zmin` and `zmax` arguments to limit the range of accepted values."
   ]
  },
  {
   "cell_type": "code",
   "execution_count": 8,
   "metadata": {},
   "outputs": [
    {
     "data": {
      "text/plain": [
       "0.32922612944882018"
      ]
     },
     "execution_count": 8,
     "metadata": {},
     "output_type": "execute_result"
    }
   ],
   "source": [
    "from astropy.cosmology import Planck13, z_at_value\n",
    "\n",
    "z_at_value(Planck13.age, 10 * u.Gyr) "
   ]
  },
  {
   "cell_type": "code",
   "execution_count": null,
   "metadata": {},
   "outputs": [],
   "source": []
  },
  {
   "cell_type": "code",
   "execution_count": null,
   "metadata": {},
   "outputs": [],
   "source": []
  },
  {
   "cell_type": "code",
   "execution_count": null,
   "metadata": {},
   "outputs": [],
   "source": []
  }
 ],
 "metadata": {
  "kernelspec": {
   "display_name": "Python 3",
   "language": "python",
   "name": "python3"
  },
  "language_info": {
   "codemirror_mode": {
    "name": "ipython",
    "version": 3
   },
   "file_extension": ".py",
   "mimetype": "text/x-python",
   "name": "python",
   "nbconvert_exporter": "python",
   "pygments_lexer": "ipython3",
   "version": "3.7.3"
  }
 },
 "nbformat": 4,
 "nbformat_minor": 2
}
