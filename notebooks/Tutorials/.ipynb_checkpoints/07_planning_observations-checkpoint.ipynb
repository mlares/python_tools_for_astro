{
 "cells": [
  {
   "cell_type": "code",
   "execution_count": 25,
   "metadata": {},
   "outputs": [],
   "source": [
    "from astropy.time import Time\n",
    "import astropy as ap\n",
    "import numpy as np\n",
    "from astropy import units as u"
   ]
  },
  {
   "cell_type": "markdown",
   "metadata": {},
   "source": [
    "### tiempos de observacion"
   ]
  },
  {
   "cell_type": "code",
   "execution_count": 5,
   "metadata": {},
   "outputs": [],
   "source": [
    "observe_time = Time('2016-09-01 00:00')\n",
    "observe_time = observe_time + np.linspace(-12, 12, 24)*u.hour"
   ]
  },
  {
   "cell_type": "code",
   "execution_count": 6,
   "metadata": {},
   "outputs": [
    {
     "data": {
      "text/plain": [
       "<Time object: scale='utc' format='iso' value=['2016-08-31 12:00:00.000' '2016-08-31 13:02:36.522'\n",
       " '2016-08-31 14:05:13.043' '2016-08-31 15:07:49.565'\n",
       " '2016-08-31 16:10:26.087' '2016-08-31 17:13:02.609'\n",
       " '2016-08-31 18:15:39.130' '2016-08-31 19:18:15.652'\n",
       " '2016-08-31 20:20:52.174' '2016-08-31 21:23:28.696'\n",
       " '2016-08-31 22:26:05.217' '2016-08-31 23:28:41.739'\n",
       " '2016-09-01 00:31:18.261' '2016-09-01 01:33:54.783'\n",
       " '2016-09-01 02:36:31.304' '2016-09-01 03:39:07.826'\n",
       " '2016-09-01 04:41:44.348' '2016-09-01 05:44:20.870'\n",
       " '2016-09-01 06:46:57.391' '2016-09-01 07:49:33.913'\n",
       " '2016-09-01 08:52:10.435' '2016-09-01 09:54:46.957'\n",
       " '2016-09-01 10:57:23.478' '2016-09-01 12:00:00.000']>"
      ]
     },
     "execution_count": 6,
     "metadata": {},
     "output_type": "execute_result"
    }
   ],
   "source": [
    "observe_time"
   ]
  },
  {
   "cell_type": "code",
   "execution_count": null,
   "metadata": {},
   "outputs": [],
   "source": []
  },
  {
   "cell_type": "code",
   "execution_count": 8,
   "metadata": {},
   "outputs": [
    {
     "name": "stderr",
     "output_type": "stream",
     "text": [
      "WARNING: OldEarthOrientationDataWarning: Your version of the IERS Bulletin A is 174.9 days old. For best precision (on the order of arcseconds), you must download an up-to-date IERS Bulletin A table. To do so, run:\n",
      "\n",
      ">>> from astroplan import download_IERS_A\n",
      ">>> download_IERS_A()\n",
      " [astroplan.utils]\n"
     ]
    }
   ],
   "source": [
    "\n",
    "import time\n",
    "\n",
    "import astropy.units as u\n",
    "from astropy.coordinates import EarthLocation\n",
    "from astropy.time import Time\n",
    "from pytz import timezone\n",
    "from astroplan import Observer\n",
    "\n",
    "\n",
    "latitude = '-31.5983d'\n",
    "longitude = '-64.5467d'\n",
    "elevation = 1350 * u.m\n",
    "location = EarthLocation.from_geodetic(longitude, latitude, elevation)\n",
    "obs_eaba = Observer(name='EABA',\n",
    "               location=location,\n",
    "               pressure=0.615 * u.bar,\n",
    "               relative_humidity=0.11,\n",
    "               temperature=0 * u.deg_C,\n",
    "               timezone=timezone('America/Argentina/Cordoba'),\n",
    "               description=\"Estacion Astrofisica Bosque Alegre\")\n"
   ]
  },
  {
   "cell_type": "code",
   "execution_count": 14,
   "metadata": {},
   "outputs": [],
   "source": [
    "obs_date=time.strftime(\"%Y/%m/%d %H:%M\")\n",
    "obs_time = Time.now()\n",
    "# Astronomical cuts\n",
    "dist_lim = 80.  # Mpc\n",
    "app_mag = 18.\n",
    "abs_mag = -18\n",
    "dec_lim = 30.\n",
    "\n",
    "# Directories where to store stuff\n",
    "base_dir = '/store/Research/Projects/TOROS/AlertReport/'\n",
    "targets_dir = 'targets/'\n",
    "plots_dir = 'plt/'\n",
    "skymap_dir = 'dat/maps/'\n",
    "catalog_dir = 'dat/surveys/'\n",
    "pdf_dir = 'pdf/'\n",
    "\n",
    "# files\n",
    "skymap_file = 'skymap.fits'\n",
    "catalog_file = 'GWGCCatalog.txt'\n",
    "#catalog_file = 'GLADE_redux.txt'"
   ]
  },
  {
   "cell_type": "code",
   "execution_count": 15,
   "metadata": {},
   "outputs": [],
   "source": [
    "sunset = []\n",
    "sunrise = []\n",
    "names = []\n",
    "obs = obs_eaba"
   ]
  },
  {
   "cell_type": "code",
   "execution_count": 21,
   "metadata": {},
   "outputs": [],
   "source": [
    "sunset_tonight = obs.sun_set_time(obs_time, which='next', horizon=-15*u.degree)\n",
    "sunrise_tonight = obs.sun_rise_time(obs_time, which='next', horizon=-15*u.degree)\n",
    "sunset.append((sunset_tonight-3*u.hour).utc.iso)\n",
    "sunrise.append((sunrise_tonight-3*u.hour).utc.iso)\n",
    "names.append(obs.name)\n",
    "\n",
    "from astropy.table import Table\n",
    "\n",
    "sunephem = Table([names, sunset, sunrise], names=('observatory','sunset', 'sunrise'))    "
   ]
  },
  {
   "cell_type": "code",
   "execution_count": 23,
   "metadata": {},
   "outputs": [
    {
     "data": {
      "text/html": [
       "&lt;Table length=3&gt;\n",
       "<table id=\"table140656154301392\" class=\"table-striped table-bordered table-condensed\">\n",
       "<thead><tr><th>observatory</th><th>sunset</th><th>sunrise</th></tr></thead>\n",
       "<thead><tr><th>str4</th><th>str23</th><th>str23</th></tr></thead>\n",
       "<tr><td>EABA</td><td>2019-10-02 20:28:38.991</td><td>2019-10-03 05:45:43.296</td></tr>\n",
       "<tr><td>EABA</td><td>2019-10-02 20:28:38.991</td><td>2019-10-03 05:45:43.296</td></tr>\n",
       "<tr><td>EABA</td><td>2019-10-02 20:28:38.991</td><td>2019-10-03 05:45:43.296</td></tr>\n",
       "</table>"
      ],
      "text/plain": [
       "<Table length=3>\n",
       "observatory          sunset                 sunrise        \n",
       "    str4             str23                   str23         \n",
       "----------- ----------------------- -----------------------\n",
       "       EABA 2019-10-02 20:28:38.991 2019-10-03 05:45:43.296\n",
       "       EABA 2019-10-02 20:28:38.991 2019-10-03 05:45:43.296\n",
       "       EABA 2019-10-02 20:28:38.991 2019-10-03 05:45:43.296"
      ]
     },
     "execution_count": 23,
     "metadata": {},
     "output_type": "execute_result"
    }
   ],
   "source": [
    "sunephem"
   ]
  },
  {
   "cell_type": "markdown",
   "metadata": {},
   "source": [
    "### plot de la masa de aire"
   ]
  },
  {
   "cell_type": "code",
   "execution_count": null,
   "metadata": {},
   "outputs": [],
   "source": [
    "from astroplan.plots import plot_airmass\n",
    "from astropy.coordinates import AltAz\n",
    "\n",
    "plt.figure(figsize=(10,10))\n",
    "plt.rcParams.update({\"font.size\":14})\n",
    "delta = (sunset_tonight - sunrise_tonight)\n",
    "deltas = np.arange(100)*delta/100.\n",
    "\n",
    "legend = []\n",
    "\n",
    "for row in tt:\n",
    "    tgt = row['planTargets']\n",
    "    coords = tgt.coord\n",
    "    tgt_altazs = coords.transform_to(AltAz(obstime=sunset_tonight+deltas,location=observatory.location))\n",
    "\n",
    "    plt.plot(sunset_tonight.value + np.array(deltas.value), tgt_altazs.alt.degree, label=row['Name'])\n",
    "    \n",
    "\n",
    "plt.ylabel('Altura en grados')\n",
    "plt.ylim(-10,90)\n",
    "plt.legend(loc=1) #(legend, 'upleft')\n",
    "plt.savefig"
   ]
  },
  {
   "cell_type": "code",
   "execution_count": null,
   "metadata": {},
   "outputs": [],
   "source": []
  }
 ],
 "metadata": {
  "kernelspec": {
   "display_name": "Python 3",
   "language": "python",
   "name": "python3"
  },
  "language_info": {
   "codemirror_mode": {
    "name": "ipython",
    "version": 3
   },
   "file_extension": ".py",
   "mimetype": "text/x-python",
   "name": "python",
   "nbconvert_exporter": "python",
   "pygments_lexer": "ipython3",
   "version": "3.7.3"
  }
 },
 "nbformat": 4,
 "nbformat_minor": 2
}
